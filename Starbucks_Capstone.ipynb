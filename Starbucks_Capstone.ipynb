{
 "cells": [
  {
   "cell_type": "markdown",
   "metadata": {},
   "source": [
    "# Step 1: Cleaning and feature engineering"
   ]
  },
  {
   "cell_type": "code",
   "execution_count": 1,
   "metadata": {},
   "outputs": [],
   "source": [
    "import pandas as pd\n",
    "import numpy as np\n",
    "import math\n",
    "import json\n",
    "import matplotlib.pyplot as plt\n",
    "import seaborn as sns\n",
    "sns.set_palette('mako_r')\n",
    "sns.set_palette('magma_r')\n",
    "% matplotlib inline\n",
    "\n",
    "# read in the json files\n",
    "portfolio = pd.read_json('data/portfolio.json', orient='records', lines=True)\n",
    "profile = pd.read_json('data/profile.json', orient='records', lines=True)\n",
    "transcript = pd.read_json('data/transcript.json', orient='records', lines=True)"
   ]
  },
  {
   "cell_type": "markdown",
   "metadata": {},
   "source": [
    "### Cleaning\n",
    "There's a couple of tasks to perform here.\n",
    "- Join the data so we can analyse it together\n",
    "- Dropping redundant id columns that we no longer need after joining the data\n",
    "- Fixing anomalous values, i.e. ages of 118\n",
    "- Extract data and building new features, such as about transaction and reward amounts, transaction count per customer, engagement per customer (viewing and completing ratios), duration of membership\n",
    "- Adding in some dummies, such as about the channels through which customers are contacted\n",
    "- Cleaning up the columns that will hold transaction and reward amounts to only contain numerical data and converting them to float\n",
    "- Clarifying column names\n",
    "\n",
    "The output will be\n",
    "* A 'master' dataframe, the result of the initial joins\n",
    "* A 'demographic' dataframe, with customer-level data and new features such as about engagement and spending\n",
    "* An 'offers' dataframe, with only data about events relating to offers"
   ]
  },
  {
   "cell_type": "code",
   "execution_count": 2,
   "metadata": {},
   "outputs": [
    {
     "data": {
      "text/html": [
       "<div>\n",
       "<style scoped>\n",
       "    .dataframe tbody tr th:only-of-type {\n",
       "        vertical-align: middle;\n",
       "    }\n",
       "\n",
       "    .dataframe tbody tr th {\n",
       "        vertical-align: top;\n",
       "    }\n",
       "\n",
       "    .dataframe thead th {\n",
       "        text-align: right;\n",
       "    }\n",
       "</style>\n",
       "<table border=\"1\" class=\"dataframe\">\n",
       "  <thead>\n",
       "    <tr style=\"text-align: right;\">\n",
       "      <th></th>\n",
       "      <th>event</th>\n",
       "      <th>person</th>\n",
       "      <th>time</th>\n",
       "      <th>value</th>\n",
       "    </tr>\n",
       "  </thead>\n",
       "  <tbody>\n",
       "    <tr>\n",
       "      <th>0</th>\n",
       "      <td>offer received</td>\n",
       "      <td>78afa995795e4d85b5d9ceeca43f5fef</td>\n",
       "      <td>0</td>\n",
       "      <td>{'offer id': '9b98b8c7a33c4b65b9aebfe6a799e6d9'}</td>\n",
       "    </tr>\n",
       "    <tr>\n",
       "      <th>1</th>\n",
       "      <td>offer received</td>\n",
       "      <td>a03223e636434f42ac4c3df47e8bac43</td>\n",
       "      <td>0</td>\n",
       "      <td>{'offer id': '0b1e1539f2cc45b7b9fa7c272da2e1d7'}</td>\n",
       "    </tr>\n",
       "    <tr>\n",
       "      <th>2</th>\n",
       "      <td>offer received</td>\n",
       "      <td>e2127556f4f64592b11af22de27a7932</td>\n",
       "      <td>0</td>\n",
       "      <td>{'offer id': '2906b810c7d4411798c6938adc9daaa5'}</td>\n",
       "    </tr>\n",
       "    <tr>\n",
       "      <th>3</th>\n",
       "      <td>offer received</td>\n",
       "      <td>8ec6ce2a7e7949b1bf142def7d0e0586</td>\n",
       "      <td>0</td>\n",
       "      <td>{'offer id': 'fafdcd668e3743c1bb461111dcafc2a4'}</td>\n",
       "    </tr>\n",
       "    <tr>\n",
       "      <th>4</th>\n",
       "      <td>offer received</td>\n",
       "      <td>68617ca6246f4fbc85e91a2a49552598</td>\n",
       "      <td>0</td>\n",
       "      <td>{'offer id': '4d5c57ea9a6940dd891ad53e9dbe8da0'}</td>\n",
       "    </tr>\n",
       "  </tbody>\n",
       "</table>\n",
       "</div>"
      ],
      "text/plain": [
       "            event                            person  time  \\\n",
       "0  offer received  78afa995795e4d85b5d9ceeca43f5fef     0   \n",
       "1  offer received  a03223e636434f42ac4c3df47e8bac43     0   \n",
       "2  offer received  e2127556f4f64592b11af22de27a7932     0   \n",
       "3  offer received  8ec6ce2a7e7949b1bf142def7d0e0586     0   \n",
       "4  offer received  68617ca6246f4fbc85e91a2a49552598     0   \n",
       "\n",
       "                                              value  \n",
       "0  {'offer id': '9b98b8c7a33c4b65b9aebfe6a799e6d9'}  \n",
       "1  {'offer id': '0b1e1539f2cc45b7b9fa7c272da2e1d7'}  \n",
       "2  {'offer id': '2906b810c7d4411798c6938adc9daaa5'}  \n",
       "3  {'offer id': 'fafdcd668e3743c1bb461111dcafc2a4'}  \n",
       "4  {'offer id': '4d5c57ea9a6940dd891ad53e9dbe8da0'}  "
      ]
     },
     "execution_count": 2,
     "metadata": {},
     "output_type": "execute_result"
    }
   ],
   "source": [
    "transcript.head()"
   ]
  },
  {
   "cell_type": "code",
   "execution_count": 3,
   "metadata": {},
   "outputs": [
    {
     "name": "stdout",
     "output_type": "stream",
     "text": [
      "Expected length: 306534\n",
      "Actual length: 306534\n"
     ]
    }
   ],
   "source": [
    "# start with transcript\n",
    "# four event types: transaction, offer received, offer viewed, offer completed\n",
    "# when it's transaction, it's always just an amount and a value (so dict extraction works)\n",
    "# we can perform two joins: transcript - profile on transcript.person = profile.id\n",
    "# and transcript offer_id = portfolio.id for the columns where the event contains 'offer'\n",
    "# breaking up value col into event type and value to facilitate join on offer_id (and have transaction\n",
    "# amount separate)\n",
    "transcript['event_type'] = transcript['value'].apply(lambda x: list(x.items())[0][0])\n",
    "transcript['event_value'] = transcript['value'].apply(lambda x: list(x.items())[0][1])\n",
    "\n",
    "# and for the 33579 cases in which value has two key-value pairs, the second being reward\n",
    "transcript['event_type_2'] = transcript['value'].apply(lambda x: list(x.items())[1][0] if len(list(x)) > 1 else None)\n",
    "transcript['event_value_2'] = transcript['value'].apply(lambda x: list(x.items())[1][1] if len(list(x)) > 1 else None)\n",
    "\n",
    "# join transcript with profile\n",
    "# inner join - neither have nulls\n",
    "join_1 = transcript.merge(profile, how = 'inner', left_on = 'person', right_on = 'id')\n",
    "\n",
    "# now need to add the data about offers \n",
    "# this only works for rows that describe an offer\n",
    "# keep all rows from join_1 that won't work because they don't describe an offer but a transaction -> left join\n",
    "master = join_1.merge(portfolio, how = 'left', left_on = 'event_value', right_on = 'id')\n",
    "\n",
    "# checking shapes\n",
    "print(f'Expected length: {transcript.shape[0]}')\n",
    "print(f'Actual length: {master.shape[0]}')"
   ]
  },
  {
   "cell_type": "code",
   "execution_count": 4,
   "metadata": {},
   "outputs": [
    {
     "name": "stdout",
     "output_type": "stream",
     "text": [
      "Last existing joining date : 2018-07-26 00:00:00\n"
     ]
    }
   ],
   "source": [
    "# can drop id_x (the old person id) and id_y (the offer id)\n",
    "master.drop(['id_x', 'id_y'], axis = 1, inplace = True)\n",
    "\n",
    "# Turn became member on column into datetime\n",
    "master['became_member_on'] = pd.to_datetime(master['became_member_on'], format = '%Y%m%d')\n",
    "\n",
    "# Now create membership_length col, assuming the last joiners have been members for 1 day\n",
    "print('Last existing joining date :', master['became_member_on'].max())\n",
    "master['membership_length'] = pd.Timestamp('2018-07-27') - master['became_member_on']\n",
    "\n",
    "# quick function to clean col and convert number of days to int\n",
    "clean_datetime = lambda x: int(str(x)[:-14])\n",
    "master['membership_length'] = master['membership_length'].apply(clean_datetime)\n",
    "\n",
    "# gender dummies\n",
    "gender_dummies = pd.get_dummies(master['gender'])\n",
    "gender_dummies.columns = ['female', 'male', 'other']\n",
    "\n",
    "# The next step is to deal with rows where age == 118\n",
    "# That's clearly where people set their age to oldest possible (dob = 1900)\n",
    "# just replace with NaN - it's probably mostly young people but that doesn't really help\n",
    "# there are no nulls now. There should be 33,772 after this\n",
    "master['age'] = np.where(master['age'] == 118, np.nan, master['age'])\n",
    "\n",
    "# rejoin with df\n",
    "master = pd.concat([master, gender_dummies], axis = 1)"
   ]
  },
  {
   "cell_type": "code",
   "execution_count": 5,
   "metadata": {},
   "outputs": [],
   "source": [
    "# at this point, need to create a demographic df\n",
    "demographic = master.copy()"
   ]
  },
  {
   "cell_type": "code",
   "execution_count": 6,
   "metadata": {},
   "outputs": [],
   "source": [
    "# fix col names \n",
    "demographic.columns = ['event', 'person', 'time', 'value', 'event_type', 'transaction_value',\n",
    "       'event_type_2', 'reward_value', 'age', 'became_member_on', 'gender',\n",
    "       'income', 'channels', 'difficulty', 'duration', 'offer_type', 'reward', 'membership_days', 'female',\n",
    "                 'male', 'other']\n",
    "\n",
    "# create transaction_value column (getting rid of any offer ids left in there)\n",
    "vals = []\n",
    "for val in demographic['transaction_value']:\n",
    "    if type(val) != float:\n",
    "        val = np.nan\n",
    "        vals.append(val)\n",
    "    else: vals.append(val)\n",
    "        \n",
    "demographic['transaction_value'] = vals"
   ]
  },
  {
   "cell_type": "code",
   "execution_count": 7,
   "metadata": {},
   "outputs": [],
   "source": [
    "# create transaction_count col\n",
    "transaction_count_col = demographic[['person', 'transaction_value']].\\\n",
    "groupby('person', as_index = False).count().iloc[:, 1]"
   ]
  },
  {
   "cell_type": "code",
   "execution_count": 8,
   "metadata": {},
   "outputs": [],
   "source": [
    "offer_dummies = pd.get_dummies(demographic[['person', 'event']]['event'])\n",
    "demographic = pd.concat([demographic, offer_dummies], axis = 1)"
   ]
  },
  {
   "cell_type": "code",
   "execution_count": 9,
   "metadata": {},
   "outputs": [],
   "source": [
    "engagement_per_person = demographic[['person', 'offer received', \n",
    "             'offer viewed', 'offer completed']].\\\n",
    "groupby('person', as_index = False).sum()"
   ]
  },
  {
   "cell_type": "code",
   "execution_count": 10,
   "metadata": {},
   "outputs": [],
   "source": [
    "# creating channels dummies which we'll need later\n",
    "channels_dummies = pd.get_dummies(demographic['channels'].\\\n",
    "                                  apply(pd.Series).stack()).sum(level=0)\n",
    "demographic = pd.concat([demographic, channels_dummies,\n",
    "                                offer_dummies], axis = 1)"
   ]
  },
  {
   "cell_type": "code",
   "execution_count": 11,
   "metadata": {},
   "outputs": [],
   "source": [
    "# can now group by, which will get mean transaction value per customer\n",
    "groupby_characteristics = ['person', 'age', 'income', 'membership_days', 'female', 'other', 'transaction_value',\n",
    "                          'email', 'mobile', 'social', 'web']\n",
    "\n",
    "# grouping\n",
    "demographic = demographic[groupby_characteristics].groupby('person', as_index = False).mean()"
   ]
  },
  {
   "cell_type": "code",
   "execution_count": 12,
   "metadata": {},
   "outputs": [],
   "source": [
    "# adding in engagement data\n",
    "demographic = demographic.merge(engagement_per_person, how = 'inner', on = 'person')"
   ]
  },
  {
   "cell_type": "code",
   "execution_count": 13,
   "metadata": {},
   "outputs": [],
   "source": [
    "# adding in viewing and completing ratios\n",
    "demographic['viewed_ratio'] = demographic['offer viewed'] / demographic['offer received']\n",
    "demographic['completed_ratio'] = demographic['offer completed'] / demographic['offer viewed']"
   ]
  },
  {
   "cell_type": "code",
   "execution_count": 14,
   "metadata": {},
   "outputs": [],
   "source": [
    "# add in transaction_count col\n",
    "demographic['transaction_count'] = transaction_count_col"
   ]
  },
  {
   "cell_type": "code",
   "execution_count": 15,
   "metadata": {},
   "outputs": [],
   "source": [
    "# create total spend col\n",
    "demographic['total_spend'] = demographic['transaction_value'] * demographic['transaction_count']"
   ]
  },
  {
   "cell_type": "code",
   "execution_count": 16,
   "metadata": {},
   "outputs": [],
   "source": [
    "# drop email col - all 1\n",
    "demographic.drop('email', axis = 1, inplace = True)"
   ]
  },
  {
   "cell_type": "code",
   "execution_count": 17,
   "metadata": {},
   "outputs": [],
   "source": [
    "# moving on to offers df: need to capture all events relating to offers\n",
    "offers = master[master['event'].str.contains('offer')]"
   ]
  },
  {
   "cell_type": "code",
   "execution_count": 18,
   "metadata": {
    "scrolled": false
   },
   "outputs": [
    {
     "name": "stderr",
     "output_type": "stream",
     "text": [
      "/opt/conda/lib/python3.6/site-packages/pandas/core/frame.py:3697: SettingWithCopyWarning: \n",
      "A value is trying to be set on a copy of a slice from a DataFrame\n",
      "\n",
      "See the caveats in the documentation: http://pandas.pydata.org/pandas-docs/stable/indexing.html#indexing-view-versus-copy\n",
      "  errors=errors)\n"
     ]
    }
   ],
   "source": [
    "# drop some non-offer-related columns and renaming for clarity\n",
    "offers.drop(['value', 'event_type', 'event_value_2', 'age', 'became_member_on', 'gender', 'income', 'membership_length',\n",
    "               'female', 'male', 'other'], axis = 1, inplace = True)"
   ]
  },
  {
   "cell_type": "code",
   "execution_count": 19,
   "metadata": {},
   "outputs": [],
   "source": [
    "offers.columns = ['event', 'person', 'time', 'offer_type_full', 'reward?', 'channels', 'difficulty',\n",
    "                 'duration', 'offer_type', 'reward']"
   ]
  },
  {
   "cell_type": "code",
   "execution_count": 20,
   "metadata": {},
   "outputs": [
    {
     "name": "stderr",
     "output_type": "stream",
     "text": [
      "/opt/conda/lib/python3.6/site-packages/ipykernel_launcher.py:1: SettingWithCopyWarning: \n",
      "A value is trying to be set on a copy of a slice from a DataFrame.\n",
      "Try using .loc[row_indexer,col_indexer] = value instead\n",
      "\n",
      "See the caveats in the documentation: http://pandas.pydata.org/pandas-docs/stable/indexing.html#indexing-view-versus-copy\n",
      "  \"\"\"Entry point for launching an IPython kernel.\n"
     ]
    }
   ],
   "source": [
    "offers['reward_ratio'] = offers['reward'] / offers['difficulty']"
   ]
  },
  {
   "cell_type": "code",
   "execution_count": 21,
   "metadata": {},
   "outputs": [
    {
     "name": "stderr",
     "output_type": "stream",
     "text": [
      "/opt/conda/lib/python3.6/site-packages/ipykernel_launcher.py:15: SettingWithCopyWarning: \n",
      "A value is trying to be set on a copy of a slice from a DataFrame.\n",
      "Try using .loc[row_indexer,col_indexer] = value instead\n",
      "\n",
      "See the caveats in the documentation: http://pandas.pydata.org/pandas-docs/stable/indexing.html#indexing-view-versus-copy\n",
      "  from ipykernel import kernelapp as app\n"
     ]
    }
   ],
   "source": [
    "# map offer_types to actual legible values from portfolio\n",
    "offer_type_dict = {\n",
    "    'ae264e3637204a6fb9bb56bc8210ddfd': 'bogo_diff10_dur7_rew10',\n",
    "    '4d5c57ea9a6940dd891ad53e9dbe8da0': 'bogo_diff10_dur5_rew10',\n",
    "    '3f207df678b143eea3cee63160fa8bed': 'info_diff0_dur4_rew0',\n",
    "    '9b98b8c7a33c4b65b9aebfe6a799e6d9': 'bogo_diff5_dur7_rew5',\n",
    "    '0b1e1539f2cc45b7b9fa7c272da2e1d7': 'disc_diff20_dur10_rew5',\n",
    "    '2298d6c36e964ae4a3e7e9706d1fb8c2': 'disc_diff7_dur7_rew3',\n",
    "    'fafdcd668e3743c1bb461111dcafc2a4': 'disc_diff10_dur10_rew2',\n",
    "    '5a8bc65990b245e5a138643cd4eb9837': 'info_diff0_dur3_rew0',\n",
    "    'f19421c1d4aa40978ebb69ca19b0e20d': 'bogo_diff5_dur5_rew5',\n",
    "    '2906b810c7d4411798c6938adc9daaa5': 'disc_diff10_dur7_rew2'\n",
    "}\n",
    "\n",
    "offers['offer_type_full'] = offers['offer_type_full'].map(offer_type_dict)"
   ]
  },
  {
   "cell_type": "code",
   "execution_count": 22,
   "metadata": {
    "scrolled": true
   },
   "outputs": [
    {
     "name": "stdout",
     "output_type": "stream",
     "text": [
      "Master dataframe shape: (306534, 21)\n",
      "Demographic dataframe shape: (17000, 17)\n",
      "Offers dataframe shape: (167581, 11)\n"
     ]
    }
   ],
   "source": [
    "# printing some statistics\n",
    "print(f'Master dataframe shape: {master.shape}')\n",
    "print(f'Demographic dataframe shape: {demographic.shape}')\n",
    "print(f'Offers dataframe shape: {offers.shape}')"
   ]
  },
  {
   "cell_type": "markdown",
   "metadata": {},
   "source": [
    "# Step 2: What is the profile of people likely to be incentivised by offers?\n",
    "#### Aim\n",
    "* Build an initial intuition about how demographic data relates to each other\n",
    "* Identify people who are likely to be incentivised by offers in some way to develop an intuition about the demographics of active customers in general\n",
    "\n",
    "#### Approach\n",
    "* Remove people who spend more than \\$20 on average - they would complete any offer anyway\n",
    "* Remove people who don't view their offers and therefore aren't engaged in the rewards programme: 0 offers viewed\n",
    "* Remove people who either have never completed an offer, or who have a completion ratio of > 1 (meaning they complete more than they view, indicating they are also not the ideal target group)"
   ]
  },
  {
   "cell_type": "code",
   "execution_count": 23,
   "metadata": {},
   "outputs": [
    {
     "data": {
      "text/html": [
       "<div>\n",
       "<style scoped>\n",
       "    .dataframe tbody tr th:only-of-type {\n",
       "        vertical-align: middle;\n",
       "    }\n",
       "\n",
       "    .dataframe tbody tr th {\n",
       "        vertical-align: top;\n",
       "    }\n",
       "\n",
       "    .dataframe thead th {\n",
       "        text-align: right;\n",
       "    }\n",
       "</style>\n",
       "<table border=\"1\" class=\"dataframe\">\n",
       "  <thead>\n",
       "    <tr style=\"text-align: right;\">\n",
       "      <th></th>\n",
       "      <th>channels</th>\n",
       "      <th>difficulty</th>\n",
       "      <th>duration</th>\n",
       "      <th>id</th>\n",
       "      <th>offer_type</th>\n",
       "      <th>reward</th>\n",
       "    </tr>\n",
       "  </thead>\n",
       "  <tbody>\n",
       "    <tr>\n",
       "      <th>0</th>\n",
       "      <td>[email, mobile, social]</td>\n",
       "      <td>10</td>\n",
       "      <td>7</td>\n",
       "      <td>ae264e3637204a6fb9bb56bc8210ddfd</td>\n",
       "      <td>bogo</td>\n",
       "      <td>10</td>\n",
       "    </tr>\n",
       "    <tr>\n",
       "      <th>1</th>\n",
       "      <td>[web, email, mobile, social]</td>\n",
       "      <td>10</td>\n",
       "      <td>5</td>\n",
       "      <td>4d5c57ea9a6940dd891ad53e9dbe8da0</td>\n",
       "      <td>bogo</td>\n",
       "      <td>10</td>\n",
       "    </tr>\n",
       "    <tr>\n",
       "      <th>2</th>\n",
       "      <td>[web, email, mobile]</td>\n",
       "      <td>0</td>\n",
       "      <td>4</td>\n",
       "      <td>3f207df678b143eea3cee63160fa8bed</td>\n",
       "      <td>informational</td>\n",
       "      <td>0</td>\n",
       "    </tr>\n",
       "    <tr>\n",
       "      <th>3</th>\n",
       "      <td>[web, email, mobile]</td>\n",
       "      <td>5</td>\n",
       "      <td>7</td>\n",
       "      <td>9b98b8c7a33c4b65b9aebfe6a799e6d9</td>\n",
       "      <td>bogo</td>\n",
       "      <td>5</td>\n",
       "    </tr>\n",
       "    <tr>\n",
       "      <th>4</th>\n",
       "      <td>[web, email]</td>\n",
       "      <td>20</td>\n",
       "      <td>10</td>\n",
       "      <td>0b1e1539f2cc45b7b9fa7c272da2e1d7</td>\n",
       "      <td>discount</td>\n",
       "      <td>5</td>\n",
       "    </tr>\n",
       "    <tr>\n",
       "      <th>5</th>\n",
       "      <td>[web, email, mobile, social]</td>\n",
       "      <td>7</td>\n",
       "      <td>7</td>\n",
       "      <td>2298d6c36e964ae4a3e7e9706d1fb8c2</td>\n",
       "      <td>discount</td>\n",
       "      <td>3</td>\n",
       "    </tr>\n",
       "    <tr>\n",
       "      <th>6</th>\n",
       "      <td>[web, email, mobile, social]</td>\n",
       "      <td>10</td>\n",
       "      <td>10</td>\n",
       "      <td>fafdcd668e3743c1bb461111dcafc2a4</td>\n",
       "      <td>discount</td>\n",
       "      <td>2</td>\n",
       "    </tr>\n",
       "    <tr>\n",
       "      <th>7</th>\n",
       "      <td>[email, mobile, social]</td>\n",
       "      <td>0</td>\n",
       "      <td>3</td>\n",
       "      <td>5a8bc65990b245e5a138643cd4eb9837</td>\n",
       "      <td>informational</td>\n",
       "      <td>0</td>\n",
       "    </tr>\n",
       "    <tr>\n",
       "      <th>8</th>\n",
       "      <td>[web, email, mobile, social]</td>\n",
       "      <td>5</td>\n",
       "      <td>5</td>\n",
       "      <td>f19421c1d4aa40978ebb69ca19b0e20d</td>\n",
       "      <td>bogo</td>\n",
       "      <td>5</td>\n",
       "    </tr>\n",
       "    <tr>\n",
       "      <th>9</th>\n",
       "      <td>[web, email, mobile]</td>\n",
       "      <td>10</td>\n",
       "      <td>7</td>\n",
       "      <td>2906b810c7d4411798c6938adc9daaa5</td>\n",
       "      <td>discount</td>\n",
       "      <td>2</td>\n",
       "    </tr>\n",
       "  </tbody>\n",
       "</table>\n",
       "</div>"
      ],
      "text/plain": [
       "                       channels  difficulty  duration  \\\n",
       "0       [email, mobile, social]          10         7   \n",
       "1  [web, email, mobile, social]          10         5   \n",
       "2          [web, email, mobile]           0         4   \n",
       "3          [web, email, mobile]           5         7   \n",
       "4                  [web, email]          20        10   \n",
       "5  [web, email, mobile, social]           7         7   \n",
       "6  [web, email, mobile, social]          10        10   \n",
       "7       [email, mobile, social]           0         3   \n",
       "8  [web, email, mobile, social]           5         5   \n",
       "9          [web, email, mobile]          10         7   \n",
       "\n",
       "                                 id     offer_type  reward  \n",
       "0  ae264e3637204a6fb9bb56bc8210ddfd           bogo      10  \n",
       "1  4d5c57ea9a6940dd891ad53e9dbe8da0           bogo      10  \n",
       "2  3f207df678b143eea3cee63160fa8bed  informational       0  \n",
       "3  9b98b8c7a33c4b65b9aebfe6a799e6d9           bogo       5  \n",
       "4  0b1e1539f2cc45b7b9fa7c272da2e1d7       discount       5  \n",
       "5  2298d6c36e964ae4a3e7e9706d1fb8c2       discount       3  \n",
       "6  fafdcd668e3743c1bb461111dcafc2a4       discount       2  \n",
       "7  5a8bc65990b245e5a138643cd4eb9837  informational       0  \n",
       "8  f19421c1d4aa40978ebb69ca19b0e20d           bogo       5  \n",
       "9  2906b810c7d4411798c6938adc9daaa5       discount       2  "
      ]
     },
     "execution_count": 23,
     "metadata": {},
     "output_type": "execute_result"
    }
   ],
   "source": [
    "portfolio"
   ]
  },
  {
   "cell_type": "code",
   "execution_count": 24,
   "metadata": {},
   "outputs": [
    {
     "data": {
      "image/png": "[encoded data removed]",
      "text/plain": [
       "<matplotlib.figure.Figure at 0x7f9fe51707f0>"
      ]
     },
     "metadata": {
      "needs_background": "light"
     },
     "output_type": "display_data"
    },
    {
     "name": "stdout",
     "output_type": "stream",
     "text": [
      "Min.: 18.0, Max.: 101.0\n"
     ]
    },
    {
     "data": {
      "image/png": "[encoded data removed]",
      "text/plain": [
       "<matplotlib.figure.Figure at 0x7fa00ea57390>"
      ]
     },
     "metadata": {},
     "output_type": "display_data"
    },
    {
     "name": "stdout",
     "output_type": "stream",
     "text": [
      "Min.: 30000.0, Max.: 120000.0\n"
     ]
    },
    {
     "data": {
      "image/png": "[encoded data removed]",
      "text/plain": [
       "<matplotlib.figure.Figure at 0x7f9fe5156c50>"
      ]
     },
     "metadata": {},
     "output_type": "display_data"
    },
    {
     "name": "stdout",
     "output_type": "stream",
     "text": [
      "Min.: 1, Max.: 1824\n"
     ]
    },
    {
     "data": {
      "image/png": "[encoded data removed]",
      "text/plain": [
       "<matplotlib.figure.Figure at 0x7f9fe512b668>"
      ]
     },
     "metadata": {},
     "output_type": "display_data"
    },
    {
     "name": "stdout",
     "output_type": "stream",
     "text": [
      "Min.: 0.05, Max.: 451.46999999999997\n"
     ]
    },
    {
     "data": {
      "image/png": "[encoded data removed]",
      "text/plain": [
       "<matplotlib.figure.Figure at 0x7f9fe51d6198>"
      ]
     },
     "metadata": {},
     "output_type": "display_data"
    },
    {
     "name": "stdout",
     "output_type": "stream",
     "text": [
      "Min.: 0.0, Max.: 1.0\n"
     ]
    },
    {
     "data": {
      "image/png": "[encoded data removed]",
      "text/plain": [
       "<matplotlib.figure.Figure at 0x7f9fe52201d0>"
      ]
     },
     "metadata": {},
     "output_type": "display_data"
    },
    {
     "name": "stdout",
     "output_type": "stream",
     "text": [
      "Min.: 0.0, Max.: 1.0\n"
     ]
    },
    {
     "data": {
      "image/png": "[encoded data removed]",
      "text/plain": [
       "<matplotlib.figure.Figure at 0x7f9fe5256208>"
      ]
     },
     "metadata": {},
     "output_type": "display_data"
    },
    {
     "name": "stdout",
     "output_type": "stream",
     "text": [
      "Min.: 0.0, Max.: 1.0\n"
     ]
    },
    {
     "data": {
      "image/png": "[encoded data removed]",
      "text/plain": [
       "<matplotlib.figure.Figure at 0x7f9fe5269be0>"
      ]
     },
     "metadata": {},
     "output_type": "display_data"
    },
    {
     "name": "stdout",
     "output_type": "stream",
     "text": [
      "Min.: 0.0, Max.: 1.0\n"
     ]
    },
    {
     "data": {
      "image/png": "[encoded data removed]",
      "text/plain": [
       "<matplotlib.figure.Figure at 0x7f9fdfa4a7b8>"
      ]
     },
     "metadata": {},
     "output_type": "display_data"
    },
    {
     "name": "stdout",
     "output_type": "stream",
     "text": [
      "Min.: 0, Max.: 36\n"
     ]
    },
    {
     "data": {
      "image/png": "[encoded data removed]",
      "text/plain": [
       "<matplotlib.figure.Figure at 0x7f9fe531a1d0>"
      ]
     },
     "metadata": {},
     "output_type": "display_data"
    },
    {
     "name": "stdout",
     "output_type": "stream",
     "text": [
      "Min.: 0.05, Max.: 1608.69\n"
     ]
    }
   ],
   "source": [
    "# exploring distributions\n",
    "to_plot = ['age', 'income', 'membership_days', 'transaction_value',\n",
    "          'mobile', 'social', 'web', 'viewed_ratio',\n",
    "          'transaction_count', 'total_spend']\n",
    "\n",
    "for col in to_plot:\n",
    "    plt.figure(figsize = (4,4))\n",
    "    plt.style.use('ggplot')\n",
    "    demographic[col].hist()\n",
    "    plt.title(f'{col} Histogram')\n",
    "    plt.annotate(f'Mean: {round(demographic[col].mean(), 2)}', (demographic[col].mean(), 1000))\n",
    "    plt.show();\n",
    "    print(f'Min.: {demographic[col].min()}, Max.: {demographic[col].max()}')"
   ]
  },
  {
   "cell_type": "code",
   "execution_count": 25,
   "metadata": {},
   "outputs": [
    {
     "data": {
      "image/png": "[encoded data removed]",
      "text/plain": [
       "<matplotlib.figure.Figure at 0x7f9fe5167630>"
      ]
     },
     "metadata": {},
     "output_type": "display_data"
    }
   ],
   "source": [
    "# but first, some exploratory stats about our demographic data\n",
    "corr_cols = demographic.columns.tolist()[1:]\n",
    "sns.set(rc={'figure.figsize':(14, 12)})\n",
    "# matrix\n",
    "corr = demographic[corr_cols].corr()\n",
    "# create mask to hide duplicate values\n",
    "mask = np.triu(np.ones_like(corr, dtype=bool))\n",
    "sns.heatmap(corr, mask = mask,\n",
    "            annot = True, cmap = 'mako_r').\\\n",
    "set_title('Correlation matrix of demographic traits');"
   ]
  },
  {
   "cell_type": "markdown",
   "metadata": {},
   "source": [
    "There are a few obvious relationships in here: \n",
    "* Total spend and spend per transaction are very strongly correlated\n",
    "* The number of offers received and viewed is strongly correlated, although subsequent completion is a weaker relationship\n",
    "* Higher spenders per transaction and in total are likely to complete more offers\n",
    "\n",
    "However, there are also some interesting behavioural / demographic traits:\n",
    "* Age and income are somewhat correlated, at 0.31, and income and spend per transaction at 0.49\n",
    "* People with lower incomes have higher transaction counts while those with higher incomes spend more per transaction.\n",
    "* People who have been members for longer tend to make more transactions, which in turn leads them to complete more offers\n",
    "* Women seem to spend slightly more in total and complete more offers"
   ]
  },
  {
   "cell_type": "code",
   "execution_count": 26,
   "metadata": {},
   "outputs": [],
   "source": [
    "# now let's zoom in on people likely to be incentivised according to our logic\n",
    "incentivised = demographic[(demographic['transaction_value'] < 20) &\n",
    "                          (demographic['viewed_ratio'] > 0) &\n",
    "                          (demographic['completed_ratio'] > 0) &\n",
    "                          (demographic['completed_ratio'] < 1)]"
   ]
  },
  {
   "cell_type": "code",
   "execution_count": 27,
   "metadata": {},
   "outputs": [],
   "source": [
    "# create 'non-incentivised' df\n",
    "incentivised_ids = incentivised['person'].tolist()\n",
    "non_incentivised = demographic[demographic['person'].isin(incentivised_ids) == False]"
   ]
  },
  {
   "cell_type": "code",
   "execution_count": 28,
   "metadata": {},
   "outputs": [
    {
     "name": "stdout",
     "output_type": "stream",
     "text": [
      "Total number of customers in data: 17000\n",
      "Number of customers likely to be incentivised and active: 5624\n",
      "As share  of total: 33%\n"
     ]
    }
   ],
   "source": [
    "# printing some stats\n",
    "print(f'Total number of customers in data: {demographic.shape[0]}')\n",
    "print(f'Number of customers likely to be incentivised and active: {incentivised.shape[0]}')\n",
    "print(f'As share  of total: {round(incentivised.shape[0] / demographic.shape[0] * 100)}%')"
   ]
  },
  {
   "cell_type": "code",
   "execution_count": 29,
   "metadata": {},
   "outputs": [],
   "source": [
    "# Now let's investigate how the two differ demographically\n",
    "incentivised_means = []\n",
    "non_incentivised_means = []\n",
    "for col in corr_cols:\n",
    "    incentivised_means.append(round(incentivised[col].mean(), 2))\n",
    "    non_incentivised_means.append(round(non_incentivised[col].mean(), 2))\n",
    "    \n",
    "mean_diff_df = pd.DataFrame([incentivised_means, non_incentivised_means],\n",
    "            columns = corr_cols, \n",
    "             index = ['mean_incentivised', 'mean_non_incentivised']).transpose()\n",
    "\n",
    "mean_diff_df.drop('completed_ratio', inplace = True)\n",
    "\n",
    "mean_diff_df['mean_difference'] = mean_diff_df['mean_incentivised'] - mean_diff_df['mean_non_incentivised']"
   ]
  },
  {
   "cell_type": "code",
   "execution_count": 30,
   "metadata": {},
   "outputs": [],
   "source": [
    "# doing the same but with median to check for outliers\n",
    "incentivised_medians = []\n",
    "non_incentivised_medians = []\n",
    "for col in corr_cols:\n",
    "    incentivised_medians.append(round(incentivised[col].median(), 2))\n",
    "    non_incentivised_medians.append(round(non_incentivised[col].median(), 2))\n",
    "    \n",
    "median_diff_df = pd.DataFrame([incentivised_medians, non_incentivised_medians],\n",
    "            columns = corr_cols, \n",
    "             index = ['median_incentivised', 'median_non_incentivised']).transpose()\n",
    "\n",
    "median_diff_df.drop('completed_ratio', inplace = True)\n",
    "\n",
    "median_diff_df['median_difference'] = median_diff_df['median_incentivised'] - median_diff_df['median_non_incentivised']"
   ]
  },
  {
   "cell_type": "code",
   "execution_count": 31,
   "metadata": {},
   "outputs": [],
   "source": [
    "diff_df = pd.concat([mean_diff_df, median_diff_df], axis = 1)"
   ]
  },
  {
   "cell_type": "code",
   "execution_count": 32,
   "metadata": {},
   "outputs": [],
   "source": [
    "mean_diff_df['pct_difference'] = round(mean_diff_df['mean_difference'] / mean_diff_df['mean_incentivised'] * 100, 2)\n",
    "mean_diff_df.sort_values(by = 'pct_difference')\n",
    "median_diff_df['pct_difference2'] = round(median_diff_df['median_difference'] / median_diff_df['median_incentivised'] * 100, 2)\n",
    "median_diff_df.drop(['female', 'other'], axis = 0, inplace = True)\n",
    "mean_diff_df.drop('other', axis = 0, inplace = True)"
   ]
  },
  {
   "cell_type": "code",
   "execution_count": 33,
   "metadata": {},
   "outputs": [],
   "source": [
    "diff_df = pd.concat([mean_diff_df, median_diff_df], axis = 1, sort = False)\n",
    "diff_df_sorted = diff_df.sort_values(by = 'pct_difference', ascending = False)"
   ]
  },
  {
   "cell_type": "code",
   "execution_count": 34,
   "metadata": {},
   "outputs": [
    {
     "data": {
      "image/png": "[encoded data removed]",
      "text/plain": [
       "<matplotlib.figure.Figure at 0x7f9fe5326eb8>"
      ]
     },
     "metadata": {},
     "output_type": "display_data"
    }
   ],
   "source": [
    "# plotting\n",
    "xlabels = diff_df_sorted.index.tolist()\n",
    "sns.barplot(xlabels, diff_df_sorted['pct_difference'], palette = 'mako_r', label = 'Mean difference')\n",
    "plt.xticks(rotation = 45)\n",
    "plt.ylabel('% difference')\n",
    "plt.title('Mean (not median) percentage difference between incentivised and non-incentivised people');"
   ]
  },
  {
   "cell_type": "markdown",
   "metadata": {},
   "source": [
    "A couple of findings here:\n",
    "* Incentivised people tend to make a lot more transactions\n",
    "* They have been members for quite a lot longer\n",
    "* They also tend to view more offers.\n",
    "\n",
    "These findings hint that they are more active and loyal members, so that our three criteria for identifying people overall likely to be incentivised make sense.\n",
    "\n",
    "Conversely, people unlikely to be incentivised tend to have high incomes and spend more per transaction and in total, and, correlated with their high income is that they are older. \n",
    "\n",
    "Additionally, incentivised people are more likely to be contacted through social and mobile, which might hint at the fact that they are younger, which in turn means they might have slightly lower incomes. We'll keep an eye on the channels through which people are targeted going forward."
   ]
  },
  {
   "cell_type": "code",
   "execution_count": 35,
   "metadata": {},
   "outputs": [
    {
     "data": {
      "text/html": [
       "<div>\n",
       "<style scoped>\n",
       "    .dataframe tbody tr th:only-of-type {\n",
       "        vertical-align: middle;\n",
       "    }\n",
       "\n",
       "    .dataframe tbody tr th {\n",
       "        vertical-align: top;\n",
       "    }\n",
       "\n",
       "    .dataframe thead th {\n",
       "        text-align: right;\n",
       "    }\n",
       "</style>\n",
       "<table border=\"1\" class=\"dataframe\">\n",
       "  <thead>\n",
       "    <tr style=\"text-align: right;\">\n",
       "      <th></th>\n",
       "      <th>mean_incentivised</th>\n",
       "      <th>mean_non_incentivised</th>\n",
       "      <th>mean_difference</th>\n",
       "      <th>pct_difference</th>\n",
       "      <th>median_incentivised</th>\n",
       "      <th>median_non_incentivised</th>\n",
       "      <th>median_difference</th>\n",
       "      <th>pct_difference2</th>\n",
       "    </tr>\n",
       "  </thead>\n",
       "  <tbody>\n",
       "    <tr>\n",
       "      <th>age</th>\n",
       "      <td>51.96</td>\n",
       "      <td>55.60</td>\n",
       "      <td>-3.64</td>\n",
       "      <td>-7.01</td>\n",
       "      <td>52.00</td>\n",
       "      <td>56.00</td>\n",
       "      <td>-4.00</td>\n",
       "      <td>-7.69</td>\n",
       "    </tr>\n",
       "    <tr>\n",
       "      <th>income</th>\n",
       "      <td>55797.68</td>\n",
       "      <td>70174.22</td>\n",
       "      <td>-14376.54</td>\n",
       "      <td>-25.77</td>\n",
       "      <td>56000.00</td>\n",
       "      <td>71000.00</td>\n",
       "      <td>-15000.00</td>\n",
       "      <td>-26.79</td>\n",
       "    </tr>\n",
       "    <tr>\n",
       "      <th>membership_days</th>\n",
       "      <td>564.70</td>\n",
       "      <td>495.59</td>\n",
       "      <td>69.11</td>\n",
       "      <td>12.24</td>\n",
       "      <td>391.00</td>\n",
       "      <td>353.00</td>\n",
       "      <td>38.00</td>\n",
       "      <td>9.72</td>\n",
       "    </tr>\n",
       "    <tr>\n",
       "      <th>female</th>\n",
       "      <td>0.31</td>\n",
       "      <td>0.39</td>\n",
       "      <td>-0.08</td>\n",
       "      <td>-25.81</td>\n",
       "      <td>NaN</td>\n",
       "      <td>NaN</td>\n",
       "      <td>NaN</td>\n",
       "      <td>NaN</td>\n",
       "    </tr>\n",
       "    <tr>\n",
       "      <th>transaction_value</th>\n",
       "      <td>8.98</td>\n",
       "      <td>16.10</td>\n",
       "      <td>-7.12</td>\n",
       "      <td>-79.29</td>\n",
       "      <td>7.33</td>\n",
       "      <td>15.31</td>\n",
       "      <td>-7.98</td>\n",
       "      <td>-108.87</td>\n",
       "    </tr>\n",
       "    <tr>\n",
       "      <th>mobile</th>\n",
       "      <td>0.94</td>\n",
       "      <td>0.90</td>\n",
       "      <td>0.04</td>\n",
       "      <td>4.26</td>\n",
       "      <td>1.00</td>\n",
       "      <td>1.00</td>\n",
       "      <td>0.00</td>\n",
       "      <td>0.00</td>\n",
       "    </tr>\n",
       "    <tr>\n",
       "      <th>social</th>\n",
       "      <td>0.69</td>\n",
       "      <td>0.63</td>\n",
       "      <td>0.06</td>\n",
       "      <td>8.70</td>\n",
       "      <td>0.70</td>\n",
       "      <td>0.67</td>\n",
       "      <td>0.03</td>\n",
       "      <td>4.29</td>\n",
       "    </tr>\n",
       "    <tr>\n",
       "      <th>web</th>\n",
       "      <td>0.80</td>\n",
       "      <td>0.81</td>\n",
       "      <td>-0.01</td>\n",
       "      <td>-1.25</td>\n",
       "      <td>0.82</td>\n",
       "      <td>0.82</td>\n",
       "      <td>0.00</td>\n",
       "      <td>0.00</td>\n",
       "    </tr>\n",
       "    <tr>\n",
       "      <th>offer received</th>\n",
       "      <td>4.66</td>\n",
       "      <td>4.40</td>\n",
       "      <td>0.26</td>\n",
       "      <td>5.58</td>\n",
       "      <td>5.00</td>\n",
       "      <td>4.00</td>\n",
       "      <td>1.00</td>\n",
       "      <td>20.00</td>\n",
       "    </tr>\n",
       "    <tr>\n",
       "      <th>offer viewed</th>\n",
       "      <td>3.87</td>\n",
       "      <td>3.16</td>\n",
       "      <td>0.71</td>\n",
       "      <td>18.35</td>\n",
       "      <td>4.00</td>\n",
       "      <td>3.00</td>\n",
       "      <td>1.00</td>\n",
       "      <td>25.00</td>\n",
       "    </tr>\n",
       "    <tr>\n",
       "      <th>offer completed</th>\n",
       "      <td>1.99</td>\n",
       "      <td>1.97</td>\n",
       "      <td>0.02</td>\n",
       "      <td>1.01</td>\n",
       "      <td>2.00</td>\n",
       "      <td>2.00</td>\n",
       "      <td>0.00</td>\n",
       "      <td>0.00</td>\n",
       "    </tr>\n",
       "    <tr>\n",
       "      <th>viewed_ratio</th>\n",
       "      <td>0.84</td>\n",
       "      <td>0.72</td>\n",
       "      <td>0.12</td>\n",
       "      <td>14.29</td>\n",
       "      <td>0.83</td>\n",
       "      <td>0.75</td>\n",
       "      <td>0.08</td>\n",
       "      <td>9.64</td>\n",
       "    </tr>\n",
       "    <tr>\n",
       "      <th>transaction_count</th>\n",
       "      <td>9.91</td>\n",
       "      <td>7.32</td>\n",
       "      <td>2.59</td>\n",
       "      <td>26.14</td>\n",
       "      <td>9.00</td>\n",
       "      <td>6.00</td>\n",
       "      <td>3.00</td>\n",
       "      <td>33.33</td>\n",
       "    </tr>\n",
       "    <tr>\n",
       "      <th>total_spend</th>\n",
       "      <td>77.78</td>\n",
       "      <td>122.15</td>\n",
       "      <td>-44.37</td>\n",
       "      <td>-57.05</td>\n",
       "      <td>56.44</td>\n",
       "      <td>89.38</td>\n",
       "      <td>-32.94</td>\n",
       "      <td>-58.36</td>\n",
       "    </tr>\n",
       "  </tbody>\n",
       "</table>\n",
       "</div>"
      ],
      "text/plain": [
       "                   mean_incentivised  mean_non_incentivised  mean_difference  \\\n",
       "age                            51.96                  55.60            -3.64   \n",
       "income                      55797.68               70174.22        -14376.54   \n",
       "membership_days               564.70                 495.59            69.11   \n",
       "female                          0.31                   0.39            -0.08   \n",
       "transaction_value               8.98                  16.10            -7.12   \n",
       "mobile                          0.94                   0.90             0.04   \n",
       "social                          0.69                   0.63             0.06   \n",
       "web                             0.80                   0.81            -0.01   \n",
       "offer received                  4.66                   4.40             0.26   \n",
       "offer viewed                    3.87                   3.16             0.71   \n",
       "offer completed                 1.99                   1.97             0.02   \n",
       "viewed_ratio                    0.84                   0.72             0.12   \n",
       "transaction_count               9.91                   7.32             2.59   \n",
       "total_spend                    77.78                 122.15           -44.37   \n",
       "\n",
       "                   pct_difference  median_incentivised  \\\n",
       "age                         -7.01                52.00   \n",
       "income                     -25.77             56000.00   \n",
       "membership_days             12.24               391.00   \n",
       "female                     -25.81                  NaN   \n",
       "transaction_value          -79.29                 7.33   \n",
       "mobile                       4.26                 1.00   \n",
       "social                       8.70                 0.70   \n",
       "web                         -1.25                 0.82   \n",
       "offer received               5.58                 5.00   \n",
       "offer viewed                18.35                 4.00   \n",
       "offer completed              1.01                 2.00   \n",
       "viewed_ratio                14.29                 0.83   \n",
       "transaction_count           26.14                 9.00   \n",
       "total_spend                -57.05                56.44   \n",
       "\n",
       "                   median_non_incentivised  median_difference  pct_difference2  \n",
       "age                                  56.00              -4.00            -7.69  \n",
       "income                            71000.00          -15000.00           -26.79  \n",
       "membership_days                     353.00              38.00             9.72  \n",
       "female                                 NaN                NaN              NaN  \n",
       "transaction_value                    15.31              -7.98          -108.87  \n",
       "mobile                                1.00               0.00             0.00  \n",
       "social                                0.67               0.03             4.29  \n",
       "web                                   0.82               0.00             0.00  \n",
       "offer received                        4.00               1.00            20.00  \n",
       "offer viewed                          3.00               1.00            25.00  \n",
       "offer completed                       2.00               0.00             0.00  \n",
       "viewed_ratio                          0.75               0.08             9.64  \n",
       "transaction_count                     6.00               3.00            33.33  \n",
       "total_spend                          89.38             -32.94           -58.36  "
      ]
     },
     "execution_count": 35,
     "metadata": {},
     "output_type": "execute_result"
    }
   ],
   "source": [
    "# printing the whole df\n",
    "diff_df"
   ]
  },
  {
   "cell_type": "markdown",
   "metadata": {},
   "source": [
    "## Conclusions\n",
    "- The membership group can be split between people who are likely to be incentivised by being sent promotions (i.e. they don't spend so much that they would, on average, tend to complete even the hardest offers; they view their offers; and they complete offers).\n",
    "- The incentivised group is about one-third of the total membership group. \n",
    "- Between the two groups, there are some clear differences and key points. 'Incentivised' people\n",
    "    - are on average 4 years younger\n",
    "    - have about \\$15,000 less income\n",
    "    - have been members for 2 months longer\n",
    "    - spend on average $7.5 less per transaction\n",
    "    - make about 3 transactions more in the same timeframe\n",
    "    \n",
    "- In other words, people who are likely to be incentivised by offers are younger, have less income and spend less per transaction, but tend to be more loyal members and make more transactions, which ultimately means they have higher median (but not mean) spend."
   ]
  },
  {
   "cell_type": "markdown",
   "metadata": {},
   "source": [
    "# Step 3: Demographics per offer type"
   ]
  },
  {
   "cell_type": "markdown",
   "metadata": {},
   "source": [
    "### Approach\n",
    "* Focus only on people we identified as being likely to be incentivised by offers / engage with the programme according to our logic. Create incentivised_offers dataframe\n",
    "* See if we can spot any patterns about engagement in general (viewed and completion ratios)\n",
    "* Segment further by successful customer journeys and see how successful customers differ per offer from everyone else\n",
    "* Try to use the profiles of successful current customers per offer to identify new customers."
   ]
  },
  {
   "cell_type": "code",
   "execution_count": 36,
   "metadata": {},
   "outputs": [],
   "source": [
    "# create incentivised_offers\n",
    "incentivised_offers = offers.merge(incentivised, how = 'inner', on = 'person')"
   ]
  },
  {
   "cell_type": "code",
   "execution_count": 37,
   "metadata": {},
   "outputs": [],
   "source": [
    "# to ensure we can adequately group by and calculate statistics, need\n",
    "# dummies for channels and offer_type\n",
    "channels_dummies = pd.get_dummies(incentivised_offers['channels'].\\\n",
    "                                  apply(pd.Series).stack()).sum(level=0)"
   ]
  },
  {
   "cell_type": "code",
   "execution_count": 38,
   "metadata": {},
   "outputs": [],
   "source": [
    "offer_type_dummies = pd.get_dummies(incentivised_offers['offer_type'])"
   ]
  },
  {
   "cell_type": "code",
   "execution_count": 39,
   "metadata": {},
   "outputs": [],
   "source": [
    "incentivised_offers = pd.concat([incentivised_offers, channels_dummies,\n",
    "                                offer_type_dummies], axis = 1)"
   ]
  },
  {
   "cell_type": "markdown",
   "metadata": {},
   "source": [
    "First, we can group by the specific offers and see whether there are important differences in completion ratio as well as the demographic characteristics: age, income, membership duration, gender, transaction value, count, and total spend."
   ]
  },
  {
   "cell_type": "code",
   "execution_count": 40,
   "metadata": {},
   "outputs": [
    {
     "data": {
      "text/plain": [
       "Index(['event', 'person', 'time', 'offer_type_full', 'reward?', 'channels',\n",
       "       'difficulty', 'duration', 'offer_type', 'reward', 'reward_ratio', 'age',\n",
       "       'income', 'membership_days', 'female', 'other', 'transaction_value',\n",
       "       'mobile', 'social', 'web', 'offer received', 'offer viewed',\n",
       "       'offer completed', 'viewed_ratio', 'completed_ratio',\n",
       "       'transaction_count', 'total_spend', 'email', 'mobile', 'social', 'web',\n",
       "       'bogo', 'discount', 'informational'],\n",
       "      dtype='object')"
      ]
     },
     "execution_count": 40,
     "metadata": {},
     "output_type": "execute_result"
    }
   ],
   "source": [
    "incentivised_offers.columns"
   ]
  },
  {
   "cell_type": "code",
   "execution_count": 41,
   "metadata": {},
   "outputs": [
    {
     "data": {
      "text/html": [
       "<div>\n",
       "<style scoped>\n",
       "    .dataframe tbody tr th:only-of-type {\n",
       "        vertical-align: middle;\n",
       "    }\n",
       "\n",
       "    .dataframe tbody tr th {\n",
       "        vertical-align: top;\n",
       "    }\n",
       "\n",
       "    .dataframe thead th {\n",
       "        text-align: right;\n",
       "    }\n",
       "</style>\n",
       "<table border=\"1\" class=\"dataframe\">\n",
       "  <thead>\n",
       "    <tr style=\"text-align: right;\">\n",
       "      <th></th>\n",
       "      <th>completed_ratio</th>\n",
       "      <th>age</th>\n",
       "      <th>income</th>\n",
       "      <th>membership_days</th>\n",
       "      <th>female</th>\n",
       "      <th>transaction_value</th>\n",
       "      <th>transaction_count</th>\n",
       "      <th>total_spend</th>\n",
       "      <th>viewed_ratio</th>\n",
       "    </tr>\n",
       "    <tr>\n",
       "      <th>offer_type_full</th>\n",
       "      <th></th>\n",
       "      <th></th>\n",
       "      <th></th>\n",
       "      <th></th>\n",
       "      <th></th>\n",
       "      <th></th>\n",
       "      <th></th>\n",
       "      <th></th>\n",
       "      <th></th>\n",
       "    </tr>\n",
       "  </thead>\n",
       "  <tbody>\n",
       "    <tr>\n",
       "      <th>bogo_diff10_dur5_rew10</th>\n",
       "      <td>0.526489</td>\n",
       "      <td>52.056073</td>\n",
       "      <td>55919.742028</td>\n",
       "      <td>591.230533</td>\n",
       "      <td>0.321648</td>\n",
       "      <td>9.583416</td>\n",
       "      <td>10.473667</td>\n",
       "      <td>86.960698</td>\n",
       "      <td>0.864006</td>\n",
       "    </tr>\n",
       "    <tr>\n",
       "      <th>bogo_diff10_dur7_rew10</th>\n",
       "      <td>0.531725</td>\n",
       "      <td>52.000923</td>\n",
       "      <td>55808.310249</td>\n",
       "      <td>569.737645</td>\n",
       "      <td>0.331509</td>\n",
       "      <td>9.449563</td>\n",
       "      <td>10.687065</td>\n",
       "      <td>88.996041</td>\n",
       "      <td>0.858203</td>\n",
       "    </tr>\n",
       "    <tr>\n",
       "      <th>bogo_diff5_dur5_rew5</th>\n",
       "      <td>0.522288</td>\n",
       "      <td>52.080503</td>\n",
       "      <td>55686.642717</td>\n",
       "      <td>559.345550</td>\n",
       "      <td>0.291643</td>\n",
       "      <td>8.841212</td>\n",
       "      <td>10.072447</td>\n",
       "      <td>78.506142</td>\n",
       "      <td>0.861661</td>\n",
       "    </tr>\n",
       "    <tr>\n",
       "      <th>bogo_diff5_dur7_rew5</th>\n",
       "      <td>0.543677</td>\n",
       "      <td>53.337688</td>\n",
       "      <td>56148.269105</td>\n",
       "      <td>570.238911</td>\n",
       "      <td>0.315820</td>\n",
       "      <td>9.545052</td>\n",
       "      <td>9.542547</td>\n",
       "      <td>80.418572</td>\n",
       "      <td>0.845326</td>\n",
       "    </tr>\n",
       "    <tr>\n",
       "      <th>disc_diff10_dur10_rew2</th>\n",
       "      <td>0.534199</td>\n",
       "      <td>51.402951</td>\n",
       "      <td>55624.865529</td>\n",
       "      <td>574.279188</td>\n",
       "      <td>0.290838</td>\n",
       "      <td>8.437173</td>\n",
       "      <td>10.909031</td>\n",
       "      <td>79.066366</td>\n",
       "      <td>0.859705</td>\n",
       "    </tr>\n",
       "    <tr>\n",
       "      <th>disc_diff10_dur7_rew2</th>\n",
       "      <td>0.549015</td>\n",
       "      <td>53.011228</td>\n",
       "      <td>57411.090742</td>\n",
       "      <td>573.609677</td>\n",
       "      <td>0.319153</td>\n",
       "      <td>9.956298</td>\n",
       "      <td>9.759879</td>\n",
       "      <td>83.783635</td>\n",
       "      <td>0.851378</td>\n",
       "    </tr>\n",
       "    <tr>\n",
       "      <th>disc_diff20_dur10_rew5</th>\n",
       "      <td>0.542866</td>\n",
       "      <td>53.357542</td>\n",
       "      <td>57565.176909</td>\n",
       "      <td>553.051226</td>\n",
       "      <td>0.329973</td>\n",
       "      <td>10.472160</td>\n",
       "      <td>9.322616</td>\n",
       "      <td>85.780234</td>\n",
       "      <td>0.834151</td>\n",
       "    </tr>\n",
       "    <tr>\n",
       "      <th>disc_diff7_dur7_rew3</th>\n",
       "      <td>0.530739</td>\n",
       "      <td>51.028362</td>\n",
       "      <td>54792.804896</td>\n",
       "      <td>540.193619</td>\n",
       "      <td>0.286762</td>\n",
       "      <td>8.261515</td>\n",
       "      <td>10.396887</td>\n",
       "      <td>76.465393</td>\n",
       "      <td>0.854149</td>\n",
       "    </tr>\n",
       "  </tbody>\n",
       "</table>\n",
       "</div>"
      ],
      "text/plain": [
       "                        completed_ratio        age        income  \\\n",
       "offer_type_full                                                    \n",
       "bogo_diff10_dur5_rew10         0.526489  52.056073  55919.742028   \n",
       "bogo_diff10_dur7_rew10         0.531725  52.000923  55808.310249   \n",
       "bogo_diff5_dur5_rew5           0.522288  52.080503  55686.642717   \n",
       "bogo_diff5_dur7_rew5           0.543677  53.337688  56148.269105   \n",
       "disc_diff10_dur10_rew2         0.534199  51.402951  55624.865529   \n",
       "disc_diff10_dur7_rew2          0.549015  53.011228  57411.090742   \n",
       "disc_diff20_dur10_rew5         0.542866  53.357542  57565.176909   \n",
       "disc_diff7_dur7_rew3           0.530739  51.028362  54792.804896   \n",
       "\n",
       "                        membership_days    female  transaction_value  \\\n",
       "offer_type_full                                                        \n",
       "bogo_diff10_dur5_rew10       591.230533  0.321648           9.583416   \n",
       "bogo_diff10_dur7_rew10       569.737645  0.331509           9.449563   \n",
       "bogo_diff5_dur5_rew5         559.345550  0.291643           8.841212   \n",
       "bogo_diff5_dur7_rew5         570.238911  0.315820           9.545052   \n",
       "disc_diff10_dur10_rew2       574.279188  0.290838           8.437173   \n",
       "disc_diff10_dur7_rew2        573.609677  0.319153           9.956298   \n",
       "disc_diff20_dur10_rew5       553.051226  0.329973          10.472160   \n",
       "disc_diff7_dur7_rew3         540.193619  0.286762           8.261515   \n",
       "\n",
       "                        transaction_count  total_spend  viewed_ratio  \n",
       "offer_type_full                                                       \n",
       "bogo_diff10_dur5_rew10          10.473667    86.960698      0.864006  \n",
       "bogo_diff10_dur7_rew10          10.687065    88.996041      0.858203  \n",
       "bogo_diff5_dur5_rew5            10.072447    78.506142      0.861661  \n",
       "bogo_diff5_dur7_rew5             9.542547    80.418572      0.845326  \n",
       "disc_diff10_dur10_rew2          10.909031    79.066366      0.859705  \n",
       "disc_diff10_dur7_rew2            9.759879    83.783635      0.851378  \n",
       "disc_diff20_dur10_rew5           9.322616    85.780234      0.834151  \n",
       "disc_diff7_dur7_rew3            10.396887    76.465393      0.854149  "
      ]
     },
     "execution_count": 41,
     "metadata": {},
     "output_type": "execute_result"
    }
   ],
   "source": [
    "offer_names = incentivised_offers['offer_type_full'].unique().tolist()\n",
    "# get rid of informational offers\n",
    "offer_names = sorted(offer_names)[:-2]\n",
    "\n",
    "groupby_cols = ['completed_ratio', 'age', 'income', 'membership_days',\n",
    "               'female', 'transaction_value', 'transaction_count',\n",
    "               'total_spend', 'offer_type_full','viewed_ratio']\n",
    "\n",
    "incentivised_offers[incentivised_offers['offer_type_full'].isin(offer_names) == True]\\\n",
    "[groupby_cols].groupby('offer_type_full').mean()"
   ]
  },
  {
   "cell_type": "markdown",
   "metadata": {},
   "source": [
    "At this level, there aren't obvious demographic differences in completion ratios or demographic characteristics. The only noticeable thing is that people who spend more complete the more difficult (expensive) offers."
   ]
  },
  {
   "cell_type": "markdown",
   "metadata": {},
   "source": [
    "Next, we'll look into the highest-engaged people per offer. We'll investigate the people in the top quartile of completion ratios for every offer and see how they differ from the general population."
   ]
  },
  {
   "cell_type": "code",
   "execution_count": 42,
   "metadata": {},
   "outputs": [
    {
     "name": "stdout",
     "output_type": "stream",
     "text": [
      "IQR for offer bogo_diff10_dur5_rew10 0.333333333333\n",
      "IQR for offer bogo_diff10_dur7_rew10 0.416666666667\n",
      "IQR for offer bogo_diff5_dur5_rew5 0.333333333333\n",
      "IQR for offer bogo_diff5_dur7_rew5 0.35\n",
      "IQR for offer disc_diff10_dur10_rew2 0.333333333333\n",
      "IQR for offer disc_diff10_dur7_rew2 0.35\n",
      "IQR for offer disc_diff20_dur10_rew5 0.416666666667\n",
      "IQR for offer disc_diff7_dur7_rew3 0.333333333333\n"
     ]
    }
   ],
   "source": [
    "# use IQR check whether the distribution of completion ratios varies by offer\n",
    "from scipy import stats\n",
    "for offer in offer_names: \n",
    "    print(f'IQR for offer {offer}', \n",
    "          stats.iqr(incentivised_offers[incentivised_offers['offer_type_full'] == offer]['completed_ratio']))"
   ]
  },
  {
   "cell_type": "code",
   "execution_count": 43,
   "metadata": {},
   "outputs": [],
   "source": [
    "# analyse top quartiles\n",
    "diffs = {}\n",
    "# characteristics to analyse\n",
    "characteristics = ['age', 'income', 'membership_days', 'female',\n",
    "                  'transaction_value','offer received', 'offer viewed',\n",
    "                   'offer completed', 'viewed_ratio',\n",
    "                   'transaction_count', 'total_spend']\n",
    "\n",
    "for offer in offer_names:\n",
    "    offer_rows = incentivised_offers\\\n",
    "    [incentivised_offers['offer_type_full'] == offer]\n",
    "    \n",
    "    top_quartile_thresh = offer_rows['completed_ratio'].describe()[6]\n",
    "    # subset and group by to get person-level data\n",
    "    top_quartile = offer_rows[offer_rows['completed_ratio'] >= top_quartile_thresh].\\\n",
    "    groupby('person', as_index = False).mean()\n",
    "    \n",
    "    # analyse differences compared to rest of overall population\n",
    "    rest = demographic[demographic['person'].isin(top_quartile['person'].tolist()) == False]\n",
    "    diffs_list = {}\n",
    "    for col in characteristics:\n",
    "        diffs_list[col] = top_quartile[col].mean() - rest[col].mean()\n",
    "        \n",
    "        diffs[offer] = diffs_list\n",
    "        \n",
    "# creating diffs of mean differences (top quartile versus rest per offer)\n",
    "mean_diffs = pd.DataFrame(diffs)"
   ]
  },
  {
   "cell_type": "code",
   "execution_count": 44,
   "metadata": {},
   "outputs": [
    {
     "data": {
      "text/html": [
       "<div>\n",
       "<style scoped>\n",
       "    .dataframe tbody tr th:only-of-type {\n",
       "        vertical-align: middle;\n",
       "    }\n",
       "\n",
       "    .dataframe tbody tr th {\n",
       "        vertical-align: top;\n",
       "    }\n",
       "\n",
       "    .dataframe thead th {\n",
       "        text-align: right;\n",
       "    }\n",
       "</style>\n",
       "<table border=\"1\" class=\"dataframe\">\n",
       "  <thead>\n",
       "    <tr style=\"text-align: right;\">\n",
       "      <th></th>\n",
       "      <th>bogo_diff10_dur5_rew10</th>\n",
       "      <th>bogo_diff10_dur7_rew10</th>\n",
       "      <th>bogo_diff5_dur5_rew5</th>\n",
       "      <th>bogo_diff5_dur7_rew5</th>\n",
       "      <th>disc_diff10_dur10_rew2</th>\n",
       "      <th>disc_diff10_dur7_rew2</th>\n",
       "      <th>disc_diff20_dur10_rew5</th>\n",
       "      <th>disc_diff7_dur7_rew3</th>\n",
       "    </tr>\n",
       "  </thead>\n",
       "  <tbody>\n",
       "    <tr>\n",
       "      <th>age</th>\n",
       "      <td>-1.622444</td>\n",
       "      <td>-0.027330</td>\n",
       "      <td>-0.600489</td>\n",
       "      <td>-0.113063</td>\n",
       "      <td>-2.141142</td>\n",
       "      <td>0.274447</td>\n",
       "      <td>0.679169</td>\n",
       "      <td>-1.930740</td>\n",
       "    </tr>\n",
       "    <tr>\n",
       "      <th>female</th>\n",
       "      <td>0.029320</td>\n",
       "      <td>0.108099</td>\n",
       "      <td>-0.014656</td>\n",
       "      <td>0.036666</td>\n",
       "      <td>-0.000155</td>\n",
       "      <td>0.031304</td>\n",
       "      <td>0.065557</td>\n",
       "      <td>0.017553</td>\n",
       "    </tr>\n",
       "    <tr>\n",
       "      <th>income</th>\n",
       "      <td>-9206.401841</td>\n",
       "      <td>-8668.852998</td>\n",
       "      <td>-9145.604818</td>\n",
       "      <td>-8437.705822</td>\n",
       "      <td>-9010.935426</td>\n",
       "      <td>-6835.741010</td>\n",
       "      <td>-7183.066261</td>\n",
       "      <td>-9868.203414</td>\n",
       "    </tr>\n",
       "    <tr>\n",
       "      <th>membership_days</th>\n",
       "      <td>106.517610</td>\n",
       "      <td>81.269268</td>\n",
       "      <td>101.890535</td>\n",
       "      <td>124.562965</td>\n",
       "      <td>118.704662</td>\n",
       "      <td>96.195076</td>\n",
       "      <td>34.341115</td>\n",
       "      <td>64.039033</td>\n",
       "    </tr>\n",
       "    <tr>\n",
       "      <th>offer completed</th>\n",
       "      <td>1.155107</td>\n",
       "      <td>1.629519</td>\n",
       "      <td>1.149241</td>\n",
       "      <td>1.649132</td>\n",
       "      <td>1.177059</td>\n",
       "      <td>1.648089</td>\n",
       "      <td>1.596422</td>\n",
       "      <td>1.122062</td>\n",
       "    </tr>\n",
       "    <tr>\n",
       "      <th>offer received</th>\n",
       "      <td>0.373516</td>\n",
       "      <td>0.523167</td>\n",
       "      <td>0.315347</td>\n",
       "      <td>0.602925</td>\n",
       "      <td>0.360231</td>\n",
       "      <td>0.576319</td>\n",
       "      <td>0.592785</td>\n",
       "      <td>0.263067</td>\n",
       "    </tr>\n",
       "    <tr>\n",
       "      <th>offer viewed</th>\n",
       "      <td>0.787258</td>\n",
       "      <td>1.197318</td>\n",
       "      <td>0.779662</td>\n",
       "      <td>1.217896</td>\n",
       "      <td>0.801436</td>\n",
       "      <td>1.217504</td>\n",
       "      <td>1.167516</td>\n",
       "      <td>0.743882</td>\n",
       "    </tr>\n",
       "    <tr>\n",
       "      <th>total_spend</th>\n",
       "      <td>11.614391</td>\n",
       "      <td>34.043883</td>\n",
       "      <td>8.406873</td>\n",
       "      <td>21.666485</td>\n",
       "      <td>7.360238</td>\n",
       "      <td>23.961084</td>\n",
       "      <td>22.675756</td>\n",
       "      <td>3.939712</td>\n",
       "    </tr>\n",
       "    <tr>\n",
       "      <th>transaction_count</th>\n",
       "      <td>3.398123</td>\n",
       "      <td>4.194491</td>\n",
       "      <td>3.266851</td>\n",
       "      <td>3.205556</td>\n",
       "      <td>3.934314</td>\n",
       "      <td>3.141039</td>\n",
       "      <td>2.417270</td>\n",
       "      <td>3.573944</td>\n",
       "    </tr>\n",
       "    <tr>\n",
       "      <th>transaction_value</th>\n",
       "      <td>-2.162336</td>\n",
       "      <td>-1.138932</td>\n",
       "      <td>-2.524598</td>\n",
       "      <td>-1.185721</td>\n",
       "      <td>-2.942058</td>\n",
       "      <td>-0.751966</td>\n",
       "      <td>-0.397158</td>\n",
       "      <td>-3.090362</td>\n",
       "    </tr>\n",
       "    <tr>\n",
       "      <th>viewed_ratio</th>\n",
       "      <td>0.107780</td>\n",
       "      <td>0.164147</td>\n",
       "      <td>0.115610</td>\n",
       "      <td>0.154153</td>\n",
       "      <td>0.112445</td>\n",
       "      <td>0.158653</td>\n",
       "      <td>0.146171</td>\n",
       "      <td>0.118649</td>\n",
       "    </tr>\n",
       "  </tbody>\n",
       "</table>\n",
       "</div>"
      ],
      "text/plain": [
       "                   bogo_diff10_dur5_rew10  bogo_diff10_dur7_rew10  \\\n",
       "age                             -1.622444               -0.027330   \n",
       "female                           0.029320                0.108099   \n",
       "income                       -9206.401841            -8668.852998   \n",
       "membership_days                106.517610               81.269268   \n",
       "offer completed                  1.155107                1.629519   \n",
       "offer received                   0.373516                0.523167   \n",
       "offer viewed                     0.787258                1.197318   \n",
       "total_spend                     11.614391               34.043883   \n",
       "transaction_count                3.398123                4.194491   \n",
       "transaction_value               -2.162336               -1.138932   \n",
       "viewed_ratio                     0.107780                0.164147   \n",
       "\n",
       "                   bogo_diff5_dur5_rew5  bogo_diff5_dur7_rew5  \\\n",
       "age                           -0.600489             -0.113063   \n",
       "female                        -0.014656              0.036666   \n",
       "income                     -9145.604818          -8437.705822   \n",
       "membership_days              101.890535            124.562965   \n",
       "offer completed                1.149241              1.649132   \n",
       "offer received                 0.315347              0.602925   \n",
       "offer viewed                   0.779662              1.217896   \n",
       "total_spend                    8.406873             21.666485   \n",
       "transaction_count              3.266851              3.205556   \n",
       "transaction_value             -2.524598             -1.185721   \n",
       "viewed_ratio                   0.115610              0.154153   \n",
       "\n",
       "                   disc_diff10_dur10_rew2  disc_diff10_dur7_rew2  \\\n",
       "age                             -2.141142               0.274447   \n",
       "female                          -0.000155               0.031304   \n",
       "income                       -9010.935426           -6835.741010   \n",
       "membership_days                118.704662              96.195076   \n",
       "offer completed                  1.177059               1.648089   \n",
       "offer received                   0.360231               0.576319   \n",
       "offer viewed                     0.801436               1.217504   \n",
       "total_spend                      7.360238              23.961084   \n",
       "transaction_count                3.934314               3.141039   \n",
       "transaction_value               -2.942058              -0.751966   \n",
       "viewed_ratio                     0.112445               0.158653   \n",
       "\n",
       "                   disc_diff20_dur10_rew5  disc_diff7_dur7_rew3  \n",
       "age                              0.679169             -1.930740  \n",
       "female                           0.065557              0.017553  \n",
       "income                       -7183.066261          -9868.203414  \n",
       "membership_days                 34.341115             64.039033  \n",
       "offer completed                  1.596422              1.122062  \n",
       "offer received                   0.592785              0.263067  \n",
       "offer viewed                     1.167516              0.743882  \n",
       "total_spend                     22.675756              3.939712  \n",
       "transaction_count                2.417270              3.573944  \n",
       "transaction_value               -0.397158             -3.090362  \n",
       "viewed_ratio                     0.146171              0.118649  "
      ]
     },
     "execution_count": 44,
     "metadata": {},
     "output_type": "execute_result"
    }
   ],
   "source": [
    "mean_diffs"
   ]
  },
  {
   "cell_type": "markdown",
   "metadata": {},
   "source": [
    "* This is still not hugely informative. The more difficult offers tend to get completed by relatively wealthier people (the gap between their income and that of the rest is smaller), which in turn correlates with having been members for shorter, etc.\n",
    "\n",
    "* Let's dig deeper - let's see the profiles of people who completed a full journey through the offer: from received, to viewed, to completed."
   ]
  },
  {
   "cell_type": "code",
   "execution_count": 45,
   "metadata": {},
   "outputs": [],
   "source": [
    "# we want a (very sparse) dataframe recording for every offer-related\n",
    "# event which offer someone received, viewed, and completed\n",
    "# once we group this dataframe, we can see for every person \n",
    "# how many of each offer they received, viewed, completed\n",
    "# then we can see which people complete the whole funnel per offer type"
   ]
  },
  {
   "cell_type": "code",
   "execution_count": 46,
   "metadata": {},
   "outputs": [],
   "source": [
    "# dummies for events\n",
    "offers = pd.concat([offers, pd.get_dummies(offers['event'])], axis = 1)"
   ]
  },
  {
   "cell_type": "code",
   "execution_count": 47,
   "metadata": {},
   "outputs": [],
   "source": [
    "# also dummies for the corresponding offers\n",
    "offer_events_outcomes_dummies = pd.concat([pd.get_dummies(offers['event']), \n",
    "           pd.get_dummies(offers['offer_type_full'])], axis = 1)"
   ]
  },
  {
   "cell_type": "code",
   "execution_count": 48,
   "metadata": {},
   "outputs": [],
   "source": [
    "# get rid of info offers\n",
    "offer_events_outcomes_dummies = offer_events_outcomes_dummies[['offer received', 'offer viewed', 'offer completed',\n",
    "       'bogo_diff10_dur5_rew10', 'bogo_diff10_dur7_rew10',\n",
    "       'bogo_diff5_dur5_rew5', 'bogo_diff5_dur7_rew5',\n",
    "       'disc_diff10_dur10_rew2', 'disc_diff10_dur7_rew2',\n",
    "       'disc_diff20_dur10_rew5', 'disc_diff7_dur7_rew3']]"
   ]
  },
  {
   "cell_type": "code",
   "execution_count": 90,
   "metadata": {},
   "outputs": [],
   "source": [
    "# add people back in (will be important later)\n",
    "offer_events_outcomes_dummies = pd.concat([offer_events_outcomes_dummies, offers['person']], axis = 1)"
   ]
  },
  {
   "cell_type": "code",
   "execution_count": 111,
   "metadata": {},
   "outputs": [],
   "source": [
    "# creating separate dfs per event category\n",
    "received = offer_events_outcomes_dummies\\\n",
    "[offer_events_outcomes_dummies['offer received'] == 1]\n",
    "viewed = offer_events_outcomes_dummies\\\n",
    "[offer_events_outcomes_dummies['offer viewed'] == 1]\n",
    "completed = offer_events_outcomes_dummies\\\n",
    "[offer_events_outcomes_dummies['offer completed'] == 1]"
   ]
  },
  {
   "cell_type": "markdown",
   "metadata": {},
   "source": [
    "With these dataframes in place, we can create a new master dataframe where we can see for every combination of a event type (received, viewed, and completed) and every offer type (minus informational offers because they cannot be completed) what happened. This will be crucial to documenting, per customer, whether they complete full customer journeys."
   ]
  },
  {
   "cell_type": "code",
   "execution_count": 112,
   "metadata": {},
   "outputs": [],
   "source": [
    "success = []\n",
    "for index, row in received.iterrows():\n",
    "    for col in received.columns.tolist()[3:11]:\n",
    "        if row[col] != 0:\n",
    "            success.append([index, {col+'_received' : 1}])\n",
    "        \n",
    "received_new = pd.DataFrame(dict(success)).transpose()"
   ]
  },
  {
   "cell_type": "code",
   "execution_count": 113,
   "metadata": {},
   "outputs": [],
   "source": [
    "success_2 = []\n",
    "for index, row in viewed.iterrows():\n",
    "    for col in viewed.columns.tolist()[3:11]:\n",
    "        if row[col] != 0:\n",
    "            success_2.append([index, {col+'_viewed' : 1}])\n",
    "            \n",
    "viewed_new = pd.DataFrame(dict(success_2)).transpose()"
   ]
  },
  {
   "cell_type": "code",
   "execution_count": 114,
   "metadata": {},
   "outputs": [],
   "source": [
    "success_3 = []\n",
    "for index, row in completed.iterrows():\n",
    "    for col in completed.columns.tolist()[3:11]:\n",
    "        if row[col] != 0:\n",
    "            success_3.append([index, {col + '_completed' : 1}])\n",
    "            \n",
    "completed_new = pd.DataFrame(dict(success_3)).transpose()"
   ]
  },
  {
   "cell_type": "code",
   "execution_count": 115,
   "metadata": {},
   "outputs": [],
   "source": [
    "# creating new master\n",
    "new_master = pd.concat([received_new, viewed_new, completed_new], axis = 1)"
   ]
  },
  {
   "cell_type": "code",
   "execution_count": 116,
   "metadata": {},
   "outputs": [],
   "source": [
    "# adding in person ids\n",
    "new_master = pd.concat([offers['person'], new_master], axis = 1)"
   ]
  },
  {
   "cell_type": "code",
   "execution_count": 117,
   "metadata": {},
   "outputs": [],
   "source": [
    "# grouping by person and summing events\n",
    "new_master_grouped = new_master.groupby('person', as_index = False).sum()"
   ]
  },
  {
   "cell_type": "markdown",
   "metadata": {},
   "source": [
    "Now we can create the number of customer journeys\n",
    "\n",
    "We will divide the sum of received + viewed + completed by 3 so that a 1 in each column will result in one complete customer journey. Also need to round down, so that e.g. a sum of 5 results in 1, not 2, customer journeys. Finally, none of the individual values can be 0 (so that e.g. 2 received, 1 viewed but 0 completed is not counted as a completed offer). \n",
    "\n",
    "This works well in practice - I did not see any false positives while scanning the first 500 rows of the new data"
   ]
  },
  {
   "cell_type": "code",
   "execution_count": 118,
   "metadata": {},
   "outputs": [
    {
     "name": "stderr",
     "output_type": "stream",
     "text": [
      "/opt/conda/lib/python3.6/site-packages/ipykernel_launcher.py:7: SettingWithCopyWarning: \n",
      "A value is trying to be set on a copy of a slice from a DataFrame.\n",
      "Try using .loc[row_indexer,col_indexer] = value instead\n",
      "\n",
      "See the caveats in the documentation: http://pandas.pydata.org/pandas-docs/stable/indexing.html#indexing-view-versus-copy\n",
      "  import sys\n"
     ]
    }
   ],
   "source": [
    "# trying out logic\n",
    "import math\n",
    "success_journeys = lambda x: math.floor(sum(x) / 3) if (x[0] != 0 and x[1] != 0 and x[2] != 0) else 0\n",
    "try_1 = new_master_grouped[['person', 'bogo_diff5_dur5_rew5_received', 'bogo_diff5_dur5_rew5_viewed',\n",
    "                  'bogo_diff5_dur5_rew5_completed']]\n",
    "\n",
    "try_1['success_journeys'] = try_1.iloc[:, 1:].apply(success_journeys, axis = 1)"
   ]
  },
  {
   "cell_type": "code",
   "execution_count": 119,
   "metadata": {
    "scrolled": true
   },
   "outputs": [],
   "source": [
    "# calculating success journeys\n",
    "success_journeys = lambda x: math.floor(sum(x) / 3) if (x[0] != 0 and x[1] != 0 and x[2] != 0) else 0\n",
    "\n",
    "for offer in offer_names:\n",
    "    subset = new_master_grouped[['person', f'{offer}_received', f'{offer}_viewed', f'{offer}_completed']]\n",
    "    offer_success_journeys = subset.iloc[:, 1:].apply(success_journeys, axis = 1)\n",
    "    # reassign to original df\n",
    "    new_master_grouped[f'{offer}_success_journeys'] = offer_success_journeys"
   ]
  },
  {
   "cell_type": "code",
   "execution_count": 121,
   "metadata": {},
   "outputs": [],
   "source": [
    "success_df = pd.concat([new_master_grouped['person'], new_master_grouped.iloc[:, 25:]], axis = 1)"
   ]
  },
  {
   "cell_type": "code",
   "execution_count": 122,
   "metadata": {
    "scrolled": true
   },
   "outputs": [],
   "source": [
    "# now we can see offers had the highest shares of successful customer journeys\n",
    "plot_data = []\n",
    "for col in success_df.columns[1:]:\n",
    "    plot_data.append([col[:-17], success_df[col].mean()])"
   ]
  },
  {
   "cell_type": "code",
   "execution_count": 123,
   "metadata": {},
   "outputs": [],
   "source": [
    "from operator import itemgetter\n",
    "plot_data = sorted(plot_data, key=itemgetter(1), reverse = True)"
   ]
  },
  {
   "cell_type": "markdown",
   "metadata": {},
   "source": [
    "We can now do more analysis. For example, we can see which offers had the highest shares of successful customer journeys."
   ]
  },
  {
   "cell_type": "code",
   "execution_count": 124,
   "metadata": {},
   "outputs": [
    {
     "data": {
      "image/png": "[encoded data removed]",
      "text/plain": [
       "<matplotlib.figure.Figure at 0x7f9fe1413780>"
      ]
     },
     "metadata": {},
     "output_type": "display_data"
    }
   ],
   "source": [
    "sns.barplot([x[0] for x in plot_data], \n",
    "            [x[1] for x in plot_data], palette = 'mako')\n",
    "sns.set(rc={'figure.figsize':(14, 12)})\n",
    "plt.xticks(rotation = 45)\n",
    "plt.ylabel('% of successful journeys')\n",
    "plt.title('Average successful customer journeys per offer')\n",
    "plt.legend();"
   ]
  },
  {
   "cell_type": "markdown",
   "metadata": {},
   "source": [
    "We can now add the demographic data back in and build reports about successful customers for each offer."
   ]
  },
  {
   "cell_type": "code",
   "execution_count": 125,
   "metadata": {},
   "outputs": [],
   "source": [
    "# add in demographic data\n",
    "success_master = success_df.merge(demographic, how = 'inner', on = 'person')"
   ]
  },
  {
   "cell_type": "code",
   "execution_count": 126,
   "metadata": {},
   "outputs": [],
   "source": [
    "# getting rid of email as a characteristic because everyone was target using email (so will be no differences)\n",
    "demographic_characteristics = ['age', 'income', 'membership_days', 'female', 'transaction_value', \n",
    "                               'mobile', 'social', 'web', 'viewed_ratio',\n",
    "                               'transaction_count', 'total_spend']\n",
    "\n",
    "# 'reporting' function: per offer, generate a report of how successful customers are different to other customers\n",
    "def build_report(offer: str, characteristics = demographic_characteristics, plot = True):\n",
    "    \"\"\"Generates a dataframe and a difference chart for a selected offer and demographic characteristics\n",
    "\n",
    "    Parameters\n",
    "    ----------\n",
    "    offer: str\n",
    "        a full offer_type: one of \n",
    "      'bogo_diff10_dur5_rew10'\n",
    "     'bogo_diff10_dur7_rew10',\n",
    "     'bogo_diff5_dur5_rew5',\n",
    "     'bogo_diff5_dur7_rew5',\n",
    "     'disc_diff10_dur10_rew2',\n",
    "     'disc_diff10_dur7_rew2',\n",
    "     'disc_diff20_dur10_rew5',\n",
    "     'disc_diff7_dur7_rew3'\n",
    "    characteristics: list\n",
    "        one or multiple demographic characteristics. Full list by default\n",
    "    plot: bool\n",
    "        whether to generate a plot\n",
    "\n",
    "    Returns\n",
    "    ---------\n",
    "    a pandas dataframe of the successful customers' mean characteristics vs general population\n",
    "    a difference plot\"\"\"\n",
    "\n",
    "    # subset successful customers\n",
    "    successful_customers = success_master[success_master[offer+'_success_journeys'] >= 1]\n",
    "\n",
    "    # initialise demographic 'report' dictionary\n",
    "    success_report = {}\n",
    "\n",
    "    # loop through characteristics \n",
    "    for col in characteristics:\n",
    "        success_report[col] = successful_customers[col].mean()\n",
    "\n",
    "    # turn into df\n",
    "    success_df = pd.DataFrame(success_report, index = ['mean_success']).transpose()\n",
    "\n",
    "    # subset everyone else\n",
    "    everyone_else = demographic[demographic['person'].isin(successful_customers['person']) == False]\n",
    "\n",
    "    # initialise 'everyone else report'\n",
    "    everyone_else_report = {}\n",
    "\n",
    "    # loop through characteristics\n",
    "    for col in characteristics:\n",
    "        everyone_else_report[col] = everyone_else[col].mean()\n",
    "\n",
    "    # turn into df\n",
    "    everyone_else_df = pd.DataFrame(everyone_else_report, index = ['mean_rest']).transpose()\n",
    "\n",
    "    # merge dfs\n",
    "    joint_df = pd.concat([success_df, everyone_else_df], axis = 1)\n",
    "\n",
    "    # create diff columns\n",
    "    joint_df['diff'] = joint_df['mean_success'] - joint_df['mean_rest']\n",
    "    joint_df['pct_diff'] = joint_df['diff'] / joint_df['mean_success'] * 100\n",
    "    \n",
    "    # sorting df by pct diff\n",
    "    joint_df = joint_df.sort_values(by = 'pct_diff', ascending = False)\n",
    "\n",
    "    # optional plot\n",
    "    if plot: \n",
    "        sns.barplot(joint_df.index, \n",
    "                    joint_df['pct_diff'], \n",
    "                    palette = 'mako')\n",
    "        sns.set(rc={'figure.figsize':(14, 12)})\n",
    "        plt.xticks(rotation = 45)\n",
    "        plt.ylabel('% difference: successful customers vs rest')\n",
    "        plt.title(f'Differences between successful customers of offer {offer} and rest')\n",
    "        plt.show();\n",
    "    \n",
    "    return joint_df"
   ]
  },
  {
   "cell_type": "code",
   "execution_count": 127,
   "metadata": {},
   "outputs": [
    {
     "data": {
      "text/html": [
       "<div>\n",
       "<style scoped>\n",
       "    .dataframe tbody tr th:only-of-type {\n",
       "        vertical-align: middle;\n",
       "    }\n",
       "\n",
       "    .dataframe tbody tr th {\n",
       "        vertical-align: top;\n",
       "    }\n",
       "\n",
       "    .dataframe thead th {\n",
       "        text-align: right;\n",
       "    }\n",
       "</style>\n",
       "<table border=\"1\" class=\"dataframe\">\n",
       "  <thead>\n",
       "    <tr style=\"text-align: right;\">\n",
       "      <th></th>\n",
       "      <th>mean_success</th>\n",
       "      <th>mean_rest</th>\n",
       "      <th>diff</th>\n",
       "      <th>pct_diff</th>\n",
       "    </tr>\n",
       "  </thead>\n",
       "  <tbody>\n",
       "    <tr>\n",
       "      <th>total_spend</th>\n",
       "      <td>182.198034</td>\n",
       "      <td>91.551726</td>\n",
       "      <td>90.646308</td>\n",
       "      <td>49.751529</td>\n",
       "    </tr>\n",
       "    <tr>\n",
       "      <th>transaction_value</th>\n",
       "      <td>20.206447</td>\n",
       "      <td>12.329415</td>\n",
       "      <td>7.877032</td>\n",
       "      <td>38.982765</td>\n",
       "    </tr>\n",
       "    <tr>\n",
       "      <th>female</th>\n",
       "      <td>0.499121</td>\n",
       "      <td>0.332698</td>\n",
       "      <td>0.166423</td>\n",
       "      <td>33.343249</td>\n",
       "    </tr>\n",
       "    <tr>\n",
       "      <th>transaction_count</th>\n",
       "      <td>9.796694</td>\n",
       "      <td>7.847778</td>\n",
       "      <td>1.948915</td>\n",
       "      <td>19.893601</td>\n",
       "    </tr>\n",
       "    <tr>\n",
       "      <th>social</th>\n",
       "      <td>0.727258</td>\n",
       "      <td>0.632978</td>\n",
       "      <td>0.094279</td>\n",
       "      <td>12.963680</td>\n",
       "    </tr>\n",
       "    <tr>\n",
       "      <th>viewed_ratio</th>\n",
       "      <td>0.837343</td>\n",
       "      <td>0.744921</td>\n",
       "      <td>0.092422</td>\n",
       "      <td>11.037498</td>\n",
       "    </tr>\n",
       "    <tr>\n",
       "      <th>membership_days</th>\n",
       "      <td>566.805839</td>\n",
       "      <td>508.739069</td>\n",
       "      <td>58.066770</td>\n",
       "      <td>10.244561</td>\n",
       "    </tr>\n",
       "    <tr>\n",
       "      <th>income</th>\n",
       "      <td>70968.005688</td>\n",
       "      <td>64102.231102</td>\n",
       "      <td>6865.774586</td>\n",
       "      <td>9.674465</td>\n",
       "    </tr>\n",
       "    <tr>\n",
       "      <th>age</th>\n",
       "      <td>56.162460</td>\n",
       "      <td>53.979271</td>\n",
       "      <td>2.183189</td>\n",
       "      <td>3.887275</td>\n",
       "    </tr>\n",
       "    <tr>\n",
       "      <th>mobile</th>\n",
       "      <td>0.928781</td>\n",
       "      <td>0.912768</td>\n",
       "      <td>0.016012</td>\n",
       "      <td>1.724020</td>\n",
       "    </tr>\n",
       "    <tr>\n",
       "      <th>web</th>\n",
       "      <td>0.615107</td>\n",
       "      <td>0.839913</td>\n",
       "      <td>-0.224807</td>\n",
       "      <td>-36.547575</td>\n",
       "    </tr>\n",
       "  </tbody>\n",
       "</table>\n",
       "</div>"
      ],
      "text/plain": [
       "                   mean_success     mean_rest         diff   pct_diff\n",
       "total_spend          182.198034     91.551726    90.646308  49.751529\n",
       "transaction_value     20.206447     12.329415     7.877032  38.982765\n",
       "female                 0.499121      0.332698     0.166423  33.343249\n",
       "transaction_count      9.796694      7.847778     1.948915  19.893601\n",
       "social                 0.727258      0.632978     0.094279  12.963680\n",
       "viewed_ratio           0.837343      0.744921     0.092422  11.037498\n",
       "membership_days      566.805839    508.739069    58.066770  10.244561\n",
       "income             70968.005688  64102.231102  6865.774586   9.674465\n",
       "age                   56.162460     53.979271     2.183189   3.887275\n",
       "mobile                 0.928781      0.912768     0.016012   1.724020\n",
       "web                    0.615107      0.839913    -0.224807 -36.547575"
      ]
     },
     "execution_count": 127,
     "metadata": {},
     "output_type": "execute_result"
    }
   ],
   "source": [
    "diff_df"
   ]
  },
  {
   "cell_type": "code",
   "execution_count": 153,
   "metadata": {
    "scrolled": true
   },
   "outputs": [
    {
     "data": {
      "image/png": "[encoded data removed]",
      "text/plain": [
       "<matplotlib.figure.Figure at 0x7f9fe13a05c0>"
      ]
     },
     "metadata": {},
     "output_type": "display_data"
    }
   ],
   "source": [
    "# example report\n",
    "diff_df = build_report('bogo_diff10_dur5_rew10', plot = True)"
   ]
  },
  {
   "cell_type": "markdown",
   "metadata": {},
   "source": [
    "We can also summarise the demographic differences between successful customers for each offer. The below will print the differences between successful customers for an offer and the rest of the population."
   ]
  },
  {
   "cell_type": "code",
   "execution_count": 129,
   "metadata": {},
   "outputs": [
    {
     "name": "stdout",
     "output_type": "stream",
     "text": [
      "bogo_diff10_dur5_rew10\n",
      "total_spend          48.743762\n",
      "transaction_value    41.014247\n",
      "female               35.921462\n",
      "transaction_count    15.326548\n",
      "membership_days      12.752400\n",
      "social               12.391859\n",
      "income               11.765176\n",
      "viewed_ratio         10.158988\n",
      "web                   7.107102\n",
      "age                   5.391269\n",
      "mobile                2.030101\n",
      "Name: pct_diff, dtype: float64\n",
      "\n",
      "\n",
      "bogo_diff10_dur7_rew10\n",
      "total_spend          49.751529\n",
      "transaction_value    38.982765\n",
      "female               33.343249\n",
      "transaction_count    19.893601\n",
      "social               12.963680\n",
      "viewed_ratio         11.037498\n",
      "membership_days      10.244561\n",
      "income                9.674465\n",
      "age                   3.887275\n",
      "mobile                1.724020\n",
      "web                 -36.547575\n",
      "Name: pct_diff, dtype: float64\n",
      "\n",
      "\n",
      "bogo_diff5_dur5_rew5\n",
      "total_spend          38.579823\n",
      "transaction_value    26.223414\n",
      "female               22.930333\n",
      "transaction_count    21.987391\n",
      "membership_days      15.187130\n",
      "social               14.691561\n",
      "viewed_ratio          8.607842\n",
      "web                   7.466863\n",
      "income                5.643838\n",
      "age                   2.536765\n",
      "mobile                2.473030\n",
      "Name: pct_diff, dtype: float64\n",
      "\n",
      "\n",
      "bogo_diff5_dur7_rew5\n",
      "total_spend          36.189016\n",
      "transaction_value    27.277504\n",
      "female               23.166446\n",
      "transaction_count    15.400436\n",
      "membership_days      14.440094\n",
      "viewed_ratio         12.735969\n",
      "web                   7.609039\n",
      "income                5.298410\n",
      "age                   2.787564\n",
      "mobile                1.698386\n",
      "social              -43.148419\n",
      "Name: pct_diff, dtype: float64\n",
      "\n",
      "\n",
      "disc_diff10_dur10_rew2\n",
      "total_spend          39.208608\n",
      "transaction_count    30.853178\n",
      "transaction_value    22.618182\n",
      "membership_days      19.684031\n",
      "female               17.326195\n",
      "social               15.221648\n",
      "web                   8.353859\n",
      "viewed_ratio          8.243840\n",
      "income                4.286959\n",
      "mobile                2.691439\n",
      "age                   2.155126\n",
      "Name: pct_diff, dtype: float64\n",
      "\n",
      "\n",
      "disc_diff10_dur7_rew2\n",
      "total_spend          39.682043\n",
      "transaction_value    32.380206\n",
      "female               22.153790\n",
      "membership_days      16.978750\n",
      "transaction_count    16.956431\n",
      "viewed_ratio         12.809402\n",
      "web                   7.711126\n",
      "income                7.300113\n",
      "age                   3.928113\n",
      "mobile                1.831589\n",
      "social              -42.741266\n",
      "Name: pct_diff, dtype: float64\n",
      "\n",
      "\n",
      "disc_diff20_dur10_rew5\n",
      "total_spend          44.889262\n",
      "transaction_value    38.223324\n",
      "female               23.276723\n",
      "viewed_ratio         16.248704\n",
      "transaction_count    13.247493\n",
      "membership_days      12.446163\n",
      "income                9.332701\n",
      "web                   6.524913\n",
      "age                   4.846387\n",
      "mobile              -36.480681\n",
      "social              -39.293326\n",
      "Name: pct_diff, dtype: float64\n",
      "\n",
      "\n",
      "disc_diff7_dur7_rew3\n",
      "total_spend          34.142312\n",
      "transaction_count    27.258110\n",
      "female               19.324003\n",
      "transaction_value    18.365725\n",
      "membership_days      15.947625\n",
      "social               15.305486\n",
      "web                   8.471561\n",
      "viewed_ratio          8.213858\n",
      "income                2.817509\n",
      "mobile                2.601770\n",
      "age                   0.879900\n",
      "Name: pct_diff, dtype: float64\n",
      "\n",
      "\n"
     ]
    }
   ],
   "source": [
    "# going through differences per offer\n",
    "for offer in offer_names:\n",
    "    print(offer)\n",
    "    print(build_report(offer, plot = False)['pct_diff'])\n",
    "    print('\\n')"
   ]
  },
  {
   "cell_type": "markdown",
   "metadata": {},
   "source": [
    "### A few observations\n",
    "* Successful customers (i.e. those that completed at least one full journey from received -> viewed -> completed) are, unsurprisingly, more active customers in that they make more transactions and spend more both per transaction and in total. This is not surprising. However, it is still worth looking at the extent of the gap. For example, lower-difficulty offers are more likely to be completed by people whose income and spending is lower than that of the rest of the population.\n",
    "\n",
    "* The most interesting characteristics are the channels through which customers are targeted. (We disregard email because everyone is targeted through email.) For example, the most 'difficult' offer requiring \\\\$20 in spend, tends to be completed by customers who tend to be targeted more through the web and much less through social and mobile channels. This in turn is likely linked to their higher age - the age delta for this category of successful customer is 5 years, the second-highest of any category, and, in turn, higher income as well. \n",
    "\n"
   ]
  },
  {
   "cell_type": "markdown",
   "metadata": {},
   "source": [
    "The user can use this information and the individual reporting function above to select characteristics, per offer, that they think are relevant to customer success for an offer. They can then use the below function to try to identify new customers."
   ]
  },
  {
   "cell_type": "code",
   "execution_count": 137,
   "metadata": {},
   "outputs": [],
   "source": [
    "# need to group the received df so we can see which customer has received which offer\n",
    "received_grouped = received.groupby('person', as_index = False).sum()"
   ]
  },
  {
   "cell_type": "code",
   "execution_count": 159,
   "metadata": {},
   "outputs": [],
   "source": [
    "def find_new_customers(offer: str, margin: float = 0.05, characteristics: list = ['age', 'income', 'social']):\n",
    "    \"\"\"\n",
    "    Identify potential new customers who match the specified profile who have not yet been targeted with this offer\n",
    "    \n",
    "    Parameters\n",
    "     ----------\n",
    "    offer: str\n",
    "        a full offer_type: one of \n",
    "      'bogo_diff10_dur5_rew10'\n",
    "     'bogo_diff10_dur7_rew10',\n",
    "     'bogo_diff5_dur5_rew5',\n",
    "     'bogo_diff5_dur7_rew5',\n",
    "     'disc_diff10_dur10_rew2',\n",
    "     'disc_diff10_dur7_rew2',\n",
    "     'disc_diff20_dur10_rew5',\n",
    "     'disc_diff7_dur7_rew3'\n",
    "    margin: float\n",
    "        percentage of margin around mean characteristic value of successful customers (e.g. age +- 2%)\n",
    "    characteristics: list\n",
    "        up to three demographic characteristics. Age, income, and social by default\n",
    "        \n",
    "    Returns\n",
    "    ----------\n",
    "    list of ids of likely new customers\n",
    "    \"\"\"\n",
    "    # identify successful customers for this offer\n",
    "    success_df = success_master[success_master[offer+'_success_journeys'] >= 1]\n",
    "    success_ids = success_df['person']\n",
    "    \n",
    "    # find their profile on selected characteristics\n",
    "    profile = []\n",
    "    \n",
    "    for characteristic in characteristics:\n",
    "        profile.append([characteristic, success_df[characteristic].mean()])\n",
    "        \n",
    "    print(f'Successful customer profile for offer {offer}:')    \n",
    "    for item in profile:\n",
    "        print(f'Average {item[0]}: {round(item[1], 1)}')\n",
    "        \n",
    "    print('\\n')\n",
    "    print(f'Searching for customers fitting this profile with a {margin * 100}% margin of error...')\n",
    "    print('\\n')\n",
    "    \n",
    "    # find everyone who has never received this offer\n",
    "    non_received_ids = received_grouped[received_grouped[offer] == 0]['person']\n",
    "    \n",
    "    # subset their demographic data\n",
    "    everyone_else_df = demographic[demographic['person'].isin(non_received_ids)]\n",
    "    \n",
    "    # filter based on specified characteristics and granularity\n",
    "    if len(profile) == 1:\n",
    "        subset = everyone_else_df[\n",
    "            (everyone_else_df[profile[0][0]].between(round(profile[0][1] * (1 - margin), 0), round(profile[0][1] * (1 + margin), 0)))\n",
    "        ]\n",
    "    \n",
    "    elif len(profile) == 2:\n",
    "        subset = everyone_else_df[\n",
    "            (everyone_else_df[profile[0][0]].between(round(profile[0][1] * (1 - margin), 0), round(profile[0][1] * (1 + margin), 0))) &\n",
    "        (everyone_else_df[profile[1][0]].between(round(profile[1][1] * (1 - margin), 0), round(profile[1][1] * (1 + margin), 0)))\n",
    "        ]\n",
    "    \n",
    "    elif len(profile) == 3:\n",
    "        subset = everyone_else_df[\n",
    "            (everyone_else_df[profile[0][0]].between(round(profile[0][1] * (1 - margin), 0), round(profile[0][1] * (1 + margin), 0))) &\n",
    "        (everyone_else_df[profile[1][0]].between(round(profile[1][1] * (1 - margin), 0), round(profile[1][1] * (1 + margin), 0))) &\n",
    "        (everyone_else_df[profile[2][0]].between(round(profile[2][1] * (1 - margin), 0), round(profile[2][1] * (1 + margin), 0)))\n",
    "        ]\n",
    "    \n",
    "    if len(subset) != 0:\n",
    "        print(f'{subset.shape[0]} new potential customers found! Here are their ids...')\n",
    "    \n",
    "        return subset['person'].values.tolist()\n",
    "    else: print('No new customers found! Please change your search parameters.')"
   ]
  },
  {
   "cell_type": "markdown",
   "metadata": {},
   "source": [
    "For example, this is what it might look like for the offer Buy one Get one, difficulty = 10, duration = 5 days, reward = 10"
   ]
  },
  {
   "cell_type": "code",
   "execution_count": 160,
   "metadata": {
    "scrolled": true
   },
   "outputs": [
    {
     "name": "stdout",
     "output_type": "stream",
     "text": [
      "Successful customer profile for offer bogo_diff10_dur5_rew10:\n",
      "Average transaction_count: 9.4\n",
      "Average membership_days: 580.1\n",
      "\n",
      "\n",
      "Searching for customers fitting this profile with a 5.0% margin of error...\n",
      "\n",
      "\n",
      "56 new potential customers found! Here are their ids...\n"
     ]
    },
    {
     "data": {
      "text/plain": [
       "['03374e3f14564b36a7138154ed8c194a',\n",
       " '092e0c1da23a48f3bc18627d390e83d5',\n",
       " '0d96a963d3e94044aa7934276db005e4',\n",
       " '13df477da33a44899ba8d50e3710d723',\n",
       " '17b2c631360648afa044912d9959615f',\n",
       " '1997b4c538804d42bac6d58c32ec26b4',\n",
       " '1e8555612cf545938953a8a648705185',\n",
       " '1f59385fcefd4cd38bbceefa8b273ad7',\n",
       " '1f95b63330504bcca452f946a265461e',\n",
       " '2033fe44df8c4236b57828dc032a6115',\n",
       " '2234fe1f1b6549f69b40bab5152238f7',\n",
       " '2a3a4c2372184141a1532f394d669004',\n",
       " '2b1f7d53e01c4e22bb65d4551fdb03ab',\n",
       " '30d56c0b77ef4c819dfec73e63418a74',\n",
       " '3291ed985095484ea54d148ad372b4c0',\n",
       " '35075a458f4043c8bdd3dc33c728826b',\n",
       " '35ac1273610d47748c93124564f477df',\n",
       " '375b452ee0b64a4fbac92e61670f961d',\n",
       " '3a97fdd1f1aa42ca989e9fcec3f6e043',\n",
       " '3ab94c67c9324d37aaf478e61c028438',\n",
       " '408c1015bbf04d6b975f374c00f69dcd',\n",
       " '447a13f9a0124f0098574ee85af55d13',\n",
       " '4f17683973c440d6a4775e796ed14dd3',\n",
       " '57a7eb726b754233aeb70873c7a7d126',\n",
       " '61d7edeec0114a9197aa11bef76e227d',\n",
       " '628d90cb330a4c42aca731c80e06f7ec',\n",
       " '67ce1a3e90f748b2b21723186529bdc2',\n",
       " '6afc72ae958d4e67af53f81be77bd398',\n",
       " '701f5a2770694eff9d3863d73d5402f8',\n",
       " '71721bc113e246aea2209b2aa7a5d58f',\n",
       " '718c019dbda445348c10f512fca3a6bf',\n",
       " '73e1f6bb3fe04429bf3ffc04c89ff7f9',\n",
       " '74f9d4f1f1814709a8ea99f1d231596d',\n",
       " '7511dba4166d42dfa5c3373e85bc9f2b',\n",
       " '77319fb963f74b25832afcd269a8735a',\n",
       " '7ae1c617339940b7a035530a56f81a54',\n",
       " '834dede1a06246598ffddc82d4ef02e9',\n",
       " '93c1bcc3ec6f420aa9cf50d0d88996fb',\n",
       " '956bb2a66d944fbeb9d50242f3839930',\n",
       " '9b3a49d67c9042c19109e55553706dff',\n",
       " 'a0a4d8b5f2cc438b86a67d9639123b54',\n",
       " 'a0cce574bb7a45e68e0557b83440b001',\n",
       " 'b311fa5c3dab428abc630f466e74302c',\n",
       " 'bb77ce209b4a4ca89349030aea4b949e',\n",
       " 'c2e9ec404105473abfaf7c2d69322bbd',\n",
       " 'c5d34e98fc7d47178ac83de5cd174a58',\n",
       " 'cdcd2bb0ad7342dda3bf041d60ebf8d8',\n",
       " 'd2678b66cabe423390376ece655685c0',\n",
       " 'd459b2efea2a4a0e81b2af58edfa5fdc',\n",
       " 'df7179f6d78f479aa034c7f99e5dade7',\n",
       " 'e08c38ea6ccb4f668dbc3ae92731203d',\n",
       " 'e70d2311d88c41b8abd04bb3e3039e91',\n",
       " 'e73aa19b0a6a4dd28c0345f96cdb34cd',\n",
       " 'e94de0e1d3cc49e88c7d3d3acc08e490',\n",
       " 'edc37c324ba440b1bab742f4ab4e1cfb',\n",
       " 'f883a0574d944b0488bca8cc4b22a728']"
      ]
     },
     "execution_count": 160,
     "metadata": {},
     "output_type": "execute_result"
    }
   ],
   "source": [
    "find_new_customers('bogo_diff10_dur5_rew10', characteristics = ['transaction_count', 'membership_days'])\n",
    "                                                                                 "
   ]
  },
  {
   "cell_type": "markdown",
   "metadata": {},
   "source": [
    "## Final thoughts\n",
    "I enjoyed doing a project that is purely about using business logic rather than machine learning, because it makes it much easier to communicate ideas and methods to a non-technical audience. I also feel that these methods were quite effective at segmenting the customer base. Additionally, the final two functions are easy to use to build a report about what the demographics of successful customers per offer are and to suggest new customers.\n",
    "\n",
    "However, the lack of machine learning / modelling also means that the project in its current state has its shortcomings. Most importantly, there isn't currently a rigourous way to verify which features are the best predictors for whether a customer will complete an offer, and although there is logic behind the second function that identifies new people to target with an offer, there is no quantitative metric to verify how accurate those suggestions are.\n",
    "\n",
    "So some degree of machine learning in feature selection and validating recommendations for targeting new people would make the project better.\n",
    "\n",
    "Also, in a next iteration, I would develop a web app to make interacting with the report-building and identifying new customers more user-friendly."
   ]
  },
  {
   "cell_type": "code",
   "execution_count": null,
   "metadata": {},
   "outputs": [],
   "source": []
  }
 ],
 "metadata": {
  "kernelspec": {
   "display_name": "Python 3",
   "language": "python",
   "name": "python3"
  },
  "language_info": {
   "codemirror_mode": {
    "name": "ipython",
    "version": 3
   },
   "file_extension": ".py",
   "mimetype": "text/x-python",
   "name": "python",
   "nbconvert_exporter": "python",
   "pygments_lexer": "ipython3",
   "version": "3.6.3"
  }
 },
 "nbformat": 4,
 "nbformat_minor": 2
}
